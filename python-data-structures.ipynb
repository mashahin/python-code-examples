{
 "cells": [
  {
   "cell_type": "markdown",
   "id": "1f4e6f6a",
   "metadata": {},
   "source": [
    "# [Python Data Structures](https://towardsdatascience.com/python-lists-are-overrated-776e87cda3e5#:~:text=Although%20tuples%20don't%20allow,the%20same%20amount%20of%20data.)\n",
    "\n",
    "### Lists\n",
    "Lists are arguably the most popular data structure in Python, and it’s easy to see why. They have tremendous utility and versatility.\n",
    "\n",
    "Unfortunately, with a heavy reliance on lists comes an omission of other capable data structures that can arguably perform better than lists.\n",
    "\n",
    "You might be wondering: why does this even matter? If lists get the job done, why bother with other tools?\n",
    "\n",
    "This line of reasoning is sound if you are content with manipulating a small amount of data. However, if you aim to use your skills to serve other companies, you should understand that you can’t be so lax about how you store and process your data.\n",
    "\n",
    "Companies, who are often burdened with petabytes of data, stress the importance of developing efficient programs that are optimized in terms of time and memory consumption.\n",
    "\n",
    "Efficiency is just as important as functionality!\n",
    "\n",
    "You need to understand that even if there are multiple tools that can get the job done, some are simply superior to others. Learning which data structure is ideal for a specific scenario will serve as an immense step for enhancing the quality of your code.\n",
    "\n",
    "While lists certainly are a reliable data structure, they are not the most fitting for every case. Here are a few alternatives that are worthy of consideration.\n",
    "\n",
    "### Tuples\n",
    "Tuples share many key similarities with lists. Both data structures store heterogeneous data types and assign a specific order to their elements.\n",
    "\n",
    "The main difference between the two lies in the fact that tuples, unlike lists, are immutable. Their assigned values can not be altered in any way.\n",
    "\n",
    "This makes lists seem more appealing, given how often programmers need to modify the data they store. However, omitting tuples altogether for this reason is a mistake.\n",
    "\n",
    "Although tuples don’t allow you to change it’s values, it still has a major advantage over lists: memory usage. Tuples require much less space than lists to store the same amount of data.\n",
    "\n",
    "Let’s demonstrate this with a quick example.\n",
    "\n",
    "Here, we create a list and tuple storing the same values and use the sys module to determine the sizes of both objects."
   ]
  },
  {
   "cell_type": "code",
   "execution_count": 2,
   "id": "a59b2c3e",
   "metadata": {},
   "outputs": [],
   "source": [
    "import sys\n",
    "import numpy as np"
   ]
  },
  {
   "cell_type": "code",
   "execution_count": 3,
   "id": "048846d1",
   "metadata": {},
   "outputs": [
    {
     "name": "stdout",
     "output_type": "stream",
     "text": [
      "Size of list: 136 bytes\n",
      "Size of tuple: 120 bytes\n"
     ]
    }
   ],
   "source": [
    "# create a list and tuple with 10 elements\n",
    "list1 = [1,2,3,4,5,6,7,8,9,10]\n",
    "tuple1 = (1,2,3,4,5,6,7,8,9,10)\n",
    "\n",
    "# get size of list and tuple\n",
    "list_size = sys.getsizeof(list1)\n",
    "tuple_size = sys.getsizeof(tuple1)\n",
    "print('Size of list: {} bytes'.format(list_size))\n",
    "print('Size of tuple: {} bytes'.format(tuple_size))"
   ]
  },
  {
   "cell_type": "markdown",
   "id": "91e27e05",
   "metadata": {},
   "source": [
    "As shown above, tuples require much less memory to store the same data as lists.\n",
    "\n",
    "Creating memory efficient programs is a must, which is why it is necessary to keep this data structure in your arsenal.\n",
    "\n",
    "Since tuples are immutable, they can only be used to store values and look them up. Thus, the ideal scenario for using tuples is when you know the values in the tuple and won’t need to modify them.\n",
    "\n",
    "### Numpy Arrays\n",
    "Unlike lists, numpy arrays are not a built-in data structure. They come from the numpy module, which specializes in conducting mathematical operations.\n",
    "\n",
    "Unlike lists, numpy arrays only store homogenous values (i.e. the elements of the array must be of the same type).\n",
    "\n",
    "Fortunately, they make up for this shortcoming by allowing you to carry out a variety of calculations with less memory usage and a quicker run time.\n",
    "\n",
    "Here is an example that showcases the quick run time of numpy arrays.\n",
    "\n",
    "Suppose we wish to create 2 lists of 1,000,000 values ranging from 0 to 999,999 and then add the elements of each list together to form a third set of values. Let’s find out the time it takes to achieve this with lists and numpy arrays.\n",
    "\n",
    "Note: Run times will be derived with the use of the “%%timeit” magic function"
   ]
  },
  {
   "cell_type": "code",
   "execution_count": 4,
   "id": "a3b87f57",
   "metadata": {},
   "outputs": [
    {
     "name": "stdout",
     "output_type": "stream",
     "text": [
      "290 ms ± 23.9 ms per loop (mean ± std. dev. of 7 runs, 1 loop each)\n"
     ]
    }
   ],
   "source": [
    "# performing the computation with lists\n",
    "list1 = [*range(1000000)]\n",
    "list2 = [*range(1000000)]\n",
    "%timeit list3 = [num1+num2 for num1, num2 in zip(list1,list2)]"
   ]
  },
  {
   "cell_type": "code",
   "execution_count": 5,
   "id": "daa2b52e",
   "metadata": {},
   "outputs": [
    {
     "name": "stdout",
     "output_type": "stream",
     "text": [
      "3.37 ms ± 80.5 µs per loop (mean ± std. dev. of 7 runs, 100 loops each)\n"
     ]
    }
   ],
   "source": [
    "# performing the computation with numpy arrays\n",
    "np_array1 = np.arange(1000000)\n",
    "np_array2 = np.arange(1000000)\n",
    "%timeit np_array3 = np_array1+np_array2"
   ]
  },
  {
   "cell_type": "markdown",
   "id": "848d502a",
   "metadata": {},
   "source": [
    "The difference in run times attests to the usability of numpy arrays.\n",
    "\n",
    "In addition to better run times, numpy arrays are also more memory efficient. Lets use the sys module to compare the size of a list with 1,000,000 values to that of a numpy array with 1,000,000 values."
   ]
  },
  {
   "cell_type": "code",
   "execution_count": 6,
   "id": "0522d2ba",
   "metadata": {},
   "outputs": [
    {
     "name": "stdout",
     "output_type": "stream",
     "text": [
      "Size of list: 9000104 bytes\n",
      "Size of numpy array: 4000000 bytes\n"
     ]
    }
   ],
   "source": [
    "# create list and numpy array\n",
    "list1 = [*range(1000000)]\n",
    "np_array = np.arange(1000000)\n",
    "\n",
    "# obtain sizes of list and numpy array\n",
    "size_list1 = sys.getsizeof(list1)\n",
    "size_np_array = np_array.size * np_array.itemsize\n",
    "\n",
    "print('Size of list: {} bytes'.format(size_list1))\n",
    "print('Size of numpy array: {} bytes'.format(size_np_array))"
   ]
  },
  {
   "cell_type": "markdown",
   "id": "e5647eb8",
   "metadata": {},
   "source": [
    "When storing 1,000,000 values, numpy arrays use less than half the memory of lists.\n",
    "\n",
    "Overall, numpy arrays surpass lists in both run times and memory usage. Although it is completely fine to use lists for simple calculations, when it comes to computationally intensive calculations, numpy arrays are your best best."
   ]
  },
  {
   "cell_type": "markdown",
   "id": "cc97bbfd",
   "metadata": {},
   "source": [
    "### Sets\n",
    "Sets are, in my opinion, the most overlooked data structure in Python.\n",
    "\n",
    "By definition, sets store a mutable collection of distinct values. Given that sets don’t allow duplicates, people may opt to stick with lists as they are already comfortable with using the latter.\n",
    "\n",
    "However, neglecting sets means casting aside all of the functions that come with them.\n",
    "\n",
    "Sets are remarkable when it comes to performing searches.\n",
    "\n",
    "As an example, let’s take these text corpuses (accessible with this [link](https://www.shawlocal.com/2017/04/06/what-is-your-opinion-on-social-media/ajmj3gi/)) and split them into a collection of words. These words will be stored in lists and sets."
   ]
  },
  {
   "cell_type": "code",
   "execution_count": 7,
   "id": "cdf1be35",
   "metadata": {},
   "outputs": [],
   "source": [
    "# text from first corpus\n",
    "text1 = \"I think social media is a great way to stay in touch with family and friends. \\\n",
    "         There is no doubt it is entertaining. I also believe that social media is intrusive \\\n",
    "         to relationships and may cause many to lose focus on projects that need to be accomplished.\"\n",
    "\n",
    "# text from second corpus\n",
    "text2 = \"Social media platforms allow us to share information and education to individuals in \\\n",
    "        a great capacity and on a grand scale. However, when used for negative, social media can be \\\n",
    "        extremely detrimental to our mental health and has been the trigger for increased anxiety \\\n",
    "        and social problems in our world.\"\n",
    "\n",
    "# storing words from each corpus into lists\n",
    "list1 = text1.split(' ')\n",
    "list2 = text2.split(' ')\n",
    "\n",
    "# storing words from each corpus into sets\n",
    "set1 = set(text1.split(' '))\n",
    "set2 = set(text2.split(' '))"
   ]
  },
  {
   "cell_type": "markdown",
   "id": "abd9774c",
   "metadata": {},
   "source": [
    "Before comparing the times it takes to search for the word ‘’believe” in the list and the set of the first corpus, I will remove duplicate values from the list for a fair comparison."
   ]
  },
  {
   "cell_type": "code",
   "execution_count": 8,
   "id": "944a3784",
   "metadata": {},
   "outputs": [],
   "source": [
    "list1_no_dup = []\n",
    "for word in list1:\n",
    "    if word not in list1_no_dup:\n",
    "        list1_no_dup.append(word)"
   ]
  },
  {
   "cell_type": "markdown",
   "id": "5697ebe8",
   "metadata": {},
   "source": [
    "Here is how the two searches compare:"
   ]
  },
  {
   "cell_type": "code",
   "execution_count": 9,
   "id": "eff020e3",
   "metadata": {},
   "outputs": [
    {
     "name": "stdout",
     "output_type": "stream",
     "text": [
      "1.14 µs ± 24.8 ns per loop (mean ± std. dev. of 7 runs, 1,000,000 loops each)\n"
     ]
    }
   ],
   "source": [
    "# search for 'believe' in the list\n",
    "%timeit believe_list = 'believe' in list1_no_dup"
   ]
  },
  {
   "cell_type": "code",
   "execution_count": 10,
   "id": "47f4a7ef",
   "metadata": {},
   "outputs": [
    {
     "name": "stdout",
     "output_type": "stream",
     "text": [
      "160 ns ± 1.85 ns per loop (mean ± std. dev. of 7 runs, 10,000,000 loops each)\n"
     ]
    }
   ],
   "source": [
    "# search for the word 'believe' in set1\n",
    "%timeit believe_set = 'believe' in set1"
   ]
  },
  {
   "cell_type": "markdown",
   "id": "d3ef2b6b",
   "metadata": {},
   "source": [
    "The difference in run times is night and day.\n",
    "\n",
    "Additionally, sets provide numerous functions that make searches much easier.\n",
    "\n",
    "For instance, how would you find all the words that are present in both text corpuses? Here’s how that would be achieved using lists."
   ]
  },
  {
   "cell_type": "code",
   "execution_count": 11,
   "id": "7a3f3ab4",
   "metadata": {},
   "outputs": [
    {
     "name": "stdout",
     "output_type": "stream",
     "text": [
      "146 µs ± 1.27 µs per loop (mean ± std. dev. of 7 runs, 10,000 loops each)\n"
     ]
    }
   ],
   "source": [
    "%%timeit\n",
    "# store words in both corpuses in list\n",
    "common_words = []\n",
    "for word in list1:\n",
    "    if word in list2 and word not in common_words:\n",
    "        common_words.append(word)"
   ]
  },
  {
   "cell_type": "markdown",
   "id": "757f2a73",
   "metadata": {},
   "source": [
    "Here’s how that would look like using sets."
   ]
  },
  {
   "cell_type": "code",
   "execution_count": 13,
   "id": "4961aec2",
   "metadata": {},
   "outputs": [
    {
     "name": "stdout",
     "output_type": "stream",
     "text": [
      "1.6 µs ± 10.1 ns per loop (mean ± std. dev. of 7 runs, 1,000,000 loops each)\n"
     ]
    }
   ],
   "source": [
    "# store words in both corpuses in set\n",
    "%timeit common_words = set1.intersection(set2)"
   ]
  },
  {
   "cell_type": "markdown",
   "id": "e81b8c9a",
   "metadata": {},
   "source": [
    "The set not only accomplishes the task with less time, it also manages this with fewer lines of code. Sets offer many useful functions like ‘intersection’ that enable programmers to extracted needed data from different collections.\n",
    "\n",
    "Thus, sets easily trump lists when it comes to performing searches. However, there is a speed-memory tradeoff one must consider when using sets. Although sets can yield smaller run times, they also require more memory."
   ]
  },
  {
   "cell_type": "code",
   "execution_count": 14,
   "id": "babd6919",
   "metadata": {},
   "outputs": [
    {
     "name": "stdout",
     "output_type": "stream",
     "text": [
      "Size of list for corpus 1: 688 bytes\n",
      "Size of set for corpus 1: 2264 bytes\n"
     ]
    }
   ],
   "source": [
    "# obtain size of list and set\n",
    "size_list1 = sys.getsizeof(list1)\n",
    "size_set1 = sys.getsizeof(set1)\n",
    "\n",
    "print('Size of list for corpus 1: {} bytes'.format(size_list1))\n",
    "print('Size of set for corpus 1: {} bytes'.format(size_set1))"
   ]
  },
  {
   "cell_type": "markdown",
   "id": "e09bacc7",
   "metadata": {},
   "source": [
    "Whether you should utilize sets or not depends on the goals and the limitations of your project. If your priority is to minimize run time, sets are the ideal data structure."
   ]
  }
 ],
 "metadata": {
  "kernelspec": {
   "display_name": "Python 3 (ipykernel)",
   "language": "python",
   "name": "python3"
  },
  "language_info": {
   "codemirror_mode": {
    "name": "ipython",
    "version": 3
   },
   "file_extension": ".py",
   "mimetype": "text/x-python",
   "name": "python",
   "nbconvert_exporter": "python",
   "pygments_lexer": "ipython3",
   "version": "3.8.16"
  }
 },
 "nbformat": 4,
 "nbformat_minor": 5
}
