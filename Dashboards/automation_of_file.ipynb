{
 "cells": [
  {
   "cell_type": "code",
   "execution_count": 5,
   "metadata": {},
   "outputs": [
    {
     "name": "stdout",
     "output_type": "stream",
     "text": [
      "Dashboard created in excel file: ../Data/Bike_Sales.xlsx\n"
     ]
    }
   ],
   "source": [
    "import sales_reports_excel as auto\n",
    "\n",
    "#Enter your filename here\n",
    "file_name = '../Data/Bike_Sales.xlsx'\n",
    "auto.automate_excel_dashboard(file_name)\n",
    "print(f'Dashboard created in excel file: {file_name}')"
   ]
  }
 ],
 "metadata": {
  "kernelspec": {
   "display_name": "base",
   "language": "python",
   "name": "python3"
  },
  "language_info": {
   "codemirror_mode": {
    "name": "ipython",
    "version": 3
   },
   "file_extension": ".py",
   "mimetype": "text/x-python",
   "name": "python",
   "nbconvert_exporter": "python",
   "pygments_lexer": "ipython3",
   "version": "3.9.13"
  },
  "orig_nbformat": 4,
  "vscode": {
   "interpreter": {
    "hash": "9e5515e05fa29f26dd39119c974a47914e4bc097851ace640f902c2e0bba8621"
   }
  }
 },
 "nbformat": 4,
 "nbformat_minor": 2
}
