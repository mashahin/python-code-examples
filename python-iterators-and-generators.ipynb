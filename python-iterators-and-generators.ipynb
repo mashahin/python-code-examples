{
 "cells": [
  {
   "cell_type": "markdown",
   "id": "c2d843b8",
   "metadata": {},
   "source": [
    "## Python Iterators & Iterables\n",
    "Iterables are objects capable of returning their members one at a time – they can be iterated over. Popular built-in Python data structures such as lists, tuples, and sets qualify as iterables. Other data structures like strings and dictionaries are also considered iterables: a string can produce iteration of its characters, and the keys of a dictionary can be iterated upon. As a rule of thumb, consider any object that can be iterated over in a for-loop as an iterable. "
   ]
  },
  {
   "cell_type": "code",
   "execution_count": 1,
   "id": "0bb6e1df",
   "metadata": {},
   "outputs": [
    {
     "name": "stdout",
     "output_type": "stream",
     "text": [
      "1\n",
      "2\n",
      "3\n",
      "4\n"
     ]
    }
   ],
   "source": [
    "# instantiate a list object\n",
    "list_instance = [1, 2, 3, 4]\n",
    "\n",
    "# convert the list to an iterator\n",
    "iterator = iter(list_instance)\n",
    "\n",
    "# return items one at a time\n",
    "print(next(iterator))\n",
    "print(next(iterator))\n",
    "print(next(iterator))\n",
    "print(next(iterator))"
   ]
  },
  {
   "cell_type": "markdown",
   "id": "86b6f5f9",
   "metadata": {},
   "source": [
    "### The lazy nature of iterators\n",
    "It is possible to define multiple iterators based on the same iterable object. Each iterator will maintain its own state of progress. Thus, by defining multiple iterator instances of an iterable object, it is possible to iterate to the end of one instance while the other instance remains at the beginning."
   ]
  },
  {
   "cell_type": "code",
   "execution_count": 2,
   "id": "d19a7b50",
   "metadata": {},
   "outputs": [
    {
     "name": "stdout",
     "output_type": "stream",
     "text": [
      "A: 1\n",
      "A: 2\n",
      "A: 3\n",
      "A: 4\n",
      "B: 1\n"
     ]
    }
   ],
   "source": [
    "list_instance = [1, 2, 3, 4]\n",
    "iterator_a = iter(list_instance)\n",
    "iterator_b = iter(list_instance)\n",
    "print(f\"A: {next(iterator_a)}\")\n",
    "print(f\"A: {next(iterator_a)}\")\n",
    "print(f\"A: {next(iterator_a)}\")\n",
    "print(f\"A: {next(iterator_a)}\")\n",
    "print(f\"B: {next(iterator_b)}\")"
   ]
  },
  {
   "cell_type": "markdown",
   "id": "699a3819",
   "metadata": {},
   "source": [
    "Notice iterator_b prints the first element of the series.\n",
    "\n",
    "Thus, we can say iterators have a lazy nature: when an iterator is created, the elements are not yielded until they are requested. In other words, the elements of our list instance would only be returned once we explicitly ask them to be with next(iter(list_instance)). \n",
    "\n",
    "However, all of the values from an iterator may be extracted at once by calling a built-in iterable data structure container (i.e., list(), set(), tuple()) on the iterator object to force the iterator to generate all its elements at once."
   ]
  },
  {
   "cell_type": "code",
   "execution_count": 3,
   "id": "3e8f0000",
   "metadata": {},
   "outputs": [
    {
     "name": "stdout",
     "output_type": "stream",
     "text": [
      "[1, 2, 3, 4]\n"
     ]
    }
   ],
   "source": [
    "# instantiate iterable\n",
    "list_instance = [1, 2, 3, 4]\n",
    "\n",
    "# produce an iterator from an iterable\n",
    "iterator = iter(list_instance)\n",
    "print(list(iterator))"
   ]
  },
  {
   "cell_type": "markdown",
   "id": "29fc2c5e",
   "metadata": {},
   "source": [
    "It’s not recommended to perform this action, especially when the elements the iterator returns are large since this will take a long time to process.\n",
    "\n",
    "Whenever a large data file swamps your machine's memory, or you have a function that requires its internal state to be maintained upon each call but creating an iterator does not make sense given the circumstances, a better alternative is to use a generator object."
   ]
  },
  {
   "cell_type": "markdown",
   "id": "a03f2f94",
   "metadata": {},
   "source": [
    "## Python Generators\n",
    "The most expedient alternative to implementing an iterator is to use a generator. Although generators may look like ordinary Python functions, they are different. For starters, a generator object does not return items. Instead, it uses the yield keyword to generate items on the fly. Thus, we can say a generator is a special kind of function that leverages lazy evaluation.\n",
    "\n",
    "Generators do not store their contents in memory as you would expect a typical iterable to do. For example, if the goal were to find all of the factors for a positive integer, we would typically implement a traditional function (learn more about Python Functions in this tutorial) as follows:  "
   ]
  },
  {
   "cell_type": "code",
   "execution_count": 6,
   "id": "9bfae6d7",
   "metadata": {},
   "outputs": [
    {
     "name": "stdout",
     "output_type": "stream",
     "text": [
      "[1, 2, 4, 5, 10, 20]\n"
     ]
    }
   ],
   "source": [
    "def factors(n):\n",
    "    factor_list = []\n",
    "    for val in range(1, n+1):\n",
    "        if n % val == 0:\n",
    "            factor_list.append(val)\n",
    "    return factor_list\n",
    "\n",
    "print(factors(20))"
   ]
  },
  {
   "cell_type": "markdown",
   "id": "c459d7c0",
   "metadata": {},
   "source": [
    "The code above returns the entire list of factors. However, notice the difference when a generator is used instead of a traditional Python function:"
   ]
  },
  {
   "cell_type": "code",
   "execution_count": 7,
   "id": "03c56376",
   "metadata": {},
   "outputs": [
    {
     "name": "stdout",
     "output_type": "stream",
     "text": [
      "<generator object factors at 0x000001DAA04DA900>\n"
     ]
    }
   ],
   "source": [
    "def factors(n):\n",
    "    factor_list = []\n",
    "    for val in range(1, n+1):\n",
    "        if n % val == 0:\n",
    "            yield val\n",
    "print(factors(20))"
   ]
  },
  {
   "cell_type": "markdown",
   "id": "ea2871f8",
   "metadata": {},
   "source": [
    "Since we used the yield keyword instead of return, the function is not exited after the run. In essence, we told Python to create a generator object instead of a traditional function, which enables the state of the generator object to be tracked. \n",
    "\n",
    "Consequently, it is possible to call the next() function on the lazy iterator to show the elements of the series one at a time. "
   ]
  },
  {
   "cell_type": "code",
   "execution_count": 8,
   "id": "91d8ecd9",
   "metadata": {},
   "outputs": [
    {
     "name": "stdout",
     "output_type": "stream",
     "text": [
      "1\n"
     ]
    }
   ],
   "source": [
    "factors_of_20 = factors(20)\n",
    "print(next(factors_of_20))"
   ]
  },
  {
   "cell_type": "markdown",
   "id": "182058fc",
   "metadata": {},
   "source": [
    "Another way to create a generator is with a generator comprehension. Generator expressions adopt a similar syntax to that of a list comprehension, except it uses rounded brackets instead of squared."
   ]
  },
  {
   "cell_type": "code",
   "execution_count": 9,
   "id": "dedcb102",
   "metadata": {},
   "outputs": [
    {
     "name": "stdout",
     "output_type": "stream",
     "text": [
      "<generator object <genexpr> at 0x000001DAA04DA970>\n"
     ]
    }
   ],
   "source": [
    "print((val for val in range(1, 20+1) if n % val == 0))"
   ]
  },
  {
   "cell_type": "markdown",
   "id": "dc415122",
   "metadata": {},
   "source": [
    "### Exploring Python’s yield Keyword\n",
    "The yield keyword controls the flow of a generator function. Instead of exiting the function as seen when return is used, the yield keyword returns the function but remembers the state of its local variables.\n",
    "\n",
    "The generator returned from the yield call can be assigned to a variable and iterated upon with the next() keyword – this will execute the function up to the first yield keyword it encounters. Once the yield keyword is hit, the execution of the function is suspended. When this occurs, the function's state is saved. Thus, it is possible for us to resume the function execution at our own will. \n",
    "\n",
    "The function will continue from the call to yield. For example: "
   ]
  },
  {
   "cell_type": "code",
   "execution_count": 10,
   "id": "c182e6ed",
   "metadata": {},
   "outputs": [
    {
     "name": "stdout",
     "output_type": "stream",
     "text": [
      "This is the first statment\n",
      "This is the second statement\n",
      "This is the third statement\n",
      "This is the last statement. Don't call next again!\n"
     ]
    },
    {
     "ename": "StopIteration",
     "evalue": "",
     "output_type": "error",
     "traceback": [
      "\u001b[1;31m---------------------------------------------------------------------------\u001b[0m",
      "\u001b[1;31mStopIteration\u001b[0m                             Traceback (most recent call last)",
      "\u001b[1;32m~\\AppData\\Local\\Temp\\ipykernel_8176\\492067290.py\u001b[0m in \u001b[0;36m<module>\u001b[1;34m\u001b[0m\n\u001b[0;32m      9\u001b[0m \u001b[0mprint\u001b[0m\u001b[1;33m(\u001b[0m\u001b[0mnext\u001b[0m\u001b[1;33m(\u001b[0m\u001b[0mexample\u001b[0m\u001b[1;33m)\u001b[0m\u001b[1;33m)\u001b[0m\u001b[1;33m\u001b[0m\u001b[1;33m\u001b[0m\u001b[0m\n\u001b[0;32m     10\u001b[0m \u001b[0mprint\u001b[0m\u001b[1;33m(\u001b[0m\u001b[0mnext\u001b[0m\u001b[1;33m(\u001b[0m\u001b[0mexample\u001b[0m\u001b[1;33m)\u001b[0m\u001b[1;33m)\u001b[0m\u001b[1;33m\u001b[0m\u001b[1;33m\u001b[0m\u001b[0m\n\u001b[1;32m---> 11\u001b[1;33m \u001b[0mprint\u001b[0m\u001b[1;33m(\u001b[0m\u001b[0mnext\u001b[0m\u001b[1;33m(\u001b[0m\u001b[0mexample\u001b[0m\u001b[1;33m)\u001b[0m\u001b[1;33m)\u001b[0m\u001b[1;33m\u001b[0m\u001b[1;33m\u001b[0m\u001b[0m\n\u001b[0m",
      "\u001b[1;31mStopIteration\u001b[0m: "
     ]
    }
   ],
   "source": [
    "def yield_multiple_statments():\n",
    "    yield \"This is the first statment\"\n",
    "    yield \"This is the second statement\" \n",
    "    yield \"This is the third statement\"\n",
    "    yield \"This is the last statement. Don't call next again!\"\n",
    "example = yield_multiple_statments()\n",
    "print(next(example))\n",
    "print(next(example))\n",
    "print(next(example))\n",
    "print(next(example))\n",
    "print(next(example))"
   ]
  },
  {
   "cell_type": "markdown",
   "id": "df198646",
   "metadata": {},
   "source": [
    "In the code above, our generator has four yield calls, but we attempt to call next on it five times, which raised a StopIteration exception. This behavior occurred because our generator is not an infinite series, so calling it more times than expected exhausted the generator.\n",
    "\n",
    "## Wrap-Up \n",
    "To recap, iterators are objects that can be iterated on, and generators are special functions that leverage lazy evaluation. Implementing your own iterator means you must create an __iter__() and __next__() method, whereas a generator can be implemented using the yield keyword in a Python function or comprehension. \n",
    "\n",
    "You may prefer to use a custom iterator over a generator when you require an object with complex state-maintaining behavior or if you wish to expose other methods beyond __next__(), __iter__(), and __init__(). On the other hand, a generator may be preferable when dealing with large sets of data since they do not store their contents in memory or when it is not necessary to implement an iterator. "
   ]
  },
  {
   "cell_type": "code",
   "execution_count": null,
   "id": "ff3cfe84",
   "metadata": {},
   "outputs": [],
   "source": []
  }
 ],
 "metadata": {
  "kernelspec": {
   "display_name": "Python 3 (ipykernel)",
   "language": "python",
   "name": "python3"
  },
  "language_info": {
   "codemirror_mode": {
    "name": "ipython",
    "version": 3
   },
   "file_extension": ".py",
   "mimetype": "text/x-python",
   "name": "python",
   "nbconvert_exporter": "python",
   "pygments_lexer": "ipython3",
   "version": "3.9.13"
  }
 },
 "nbformat": 4,
 "nbformat_minor": 5
}
