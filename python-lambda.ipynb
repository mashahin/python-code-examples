{
 "cells": [
  {
   "cell_type": "markdown",
   "id": "15bb695d",
   "metadata": {},
   "source": [
    "# Python Lambda\n",
    "\n",
    "A lambda function is a small anonymous function.\n",
    "A lambda function can take any number of arguments, but can only have one expression.\n",
    "\n",
    "Syntax:  *lambda arguments : expression*\n",
    "\n",
    "The expression is executed and the result is returned."
   ]
  },
  {
   "cell_type": "code",
   "execution_count": 6,
   "id": "a06461e3",
   "metadata": {},
   "outputs": [
    {
     "name": "stdout",
     "output_type": "stream",
     "text": [
      "15\n"
     ]
    }
   ],
   "source": [
    "# Add 10 to argument a, and return the result\n",
    "\n",
    "x  = lambda a: a + 10\n",
    "print(x(5))"
   ]
  },
  {
   "cell_type": "markdown",
   "id": "44400f45",
   "metadata": {},
   "source": [
    "Lambda functions can take any number of arguments."
   ]
  },
  {
   "cell_type": "code",
   "execution_count": 7,
   "id": "56c8d30c",
   "metadata": {},
   "outputs": [
    {
     "name": "stdout",
     "output_type": "stream",
     "text": [
      "50\n"
     ]
    }
   ],
   "source": [
    "# Multiply argument a with argument b and return the result\n",
    "\n",
    "x = lambda a, b: a * b\n",
    "\n",
    "print(x(5, 10))"
   ]
  },
  {
   "cell_type": "code",
   "execution_count": 8,
   "id": "10224987",
   "metadata": {},
   "outputs": [
    {
     "name": "stdout",
     "output_type": "stream",
     "text": [
      "4.0\n"
     ]
    }
   ],
   "source": [
    "x = lambda a, b, c: (a + b) / c\n",
    "print(x(5, 7, 3))"
   ]
  },
  {
   "cell_type": "markdown",
   "id": "095619ed",
   "metadata": {},
   "source": [
    "### Why Use Lambda Functions?\n",
    "\n",
    "The power of lambda is better shown when used as an anonymous function inside another function. Say you have a function definition that takes one argument, and that argument will be multiplied with an unknown number, such as "
   ]
  },
  {
   "cell_type": "code",
   "execution_count": 9,
   "id": "58d8cf99",
   "metadata": {},
   "outputs": [],
   "source": [
    "def myfunc(n):\n",
    "    return lambda a: a * n"
   ]
  },
  {
   "cell_type": "markdown",
   "id": "c854b754",
   "metadata": {},
   "source": [
    "Use that function definition to make a function that always doubles the number you send in, suck as   "
   ]
  },
  {
   "cell_type": "code",
   "execution_count": 11,
   "id": "2e027be5",
   "metadata": {},
   "outputs": [
    {
     "name": "stdout",
     "output_type": "stream",
     "text": [
      "10\n"
     ]
    }
   ],
   "source": [
    "doubler = myfunc(2)\n",
    "\n",
    "print(doubler(5))"
   ]
  },
  {
   "cell_type": "markdown",
   "id": "6f8a50bf",
   "metadata": {},
   "source": [
    "Or, use the same function definition to make a function that always triples, quadruples (and so on) the bnumber you send in."
   ]
  },
  {
   "cell_type": "code",
   "execution_count": 12,
   "id": "12dd7980",
   "metadata": {},
   "outputs": [
    {
     "name": "stdout",
     "output_type": "stream",
     "text": [
      "15 20\n"
     ]
    }
   ],
   "source": [
    "tripler = myfunc(3)\n",
    "quadrupler = myfunc(4)\n",
    "\n",
    "print(tripler(5), quadrupler(5))"
   ]
  },
  {
   "cell_type": "markdown",
   "id": "876a1a01",
   "metadata": {},
   "source": [
    "***Use lambda functions when an anonymous function is required for a short period of time.***"
   ]
  },
  {
   "cell_type": "code",
   "execution_count": null,
   "id": "64b510f8",
   "metadata": {},
   "outputs": [],
   "source": []
  }
 ],
 "metadata": {
  "kernelspec": {
   "display_name": "Python 3 (ipykernel)",
   "language": "python",
   "name": "python3"
  },
  "language_info": {
   "codemirror_mode": {
    "name": "ipython",
    "version": 3
   },
   "file_extension": ".py",
   "mimetype": "text/x-python",
   "name": "python",
   "nbconvert_exporter": "python",
   "pygments_lexer": "ipython3",
   "version": "3.9.13"
  }
 },
 "nbformat": 4,
 "nbformat_minor": 5
}
