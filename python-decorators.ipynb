{
 "cells": [
  {
   "cell_type": "markdown",
   "metadata": {},
   "source": [
    "# Python Decorators\n",
    "A Python decorator is a function that takes in a function and returns it by adding some functionality.\n",
    "\n",
    "In fact, any object which implements the special __call__() method is termed callable. So, in the most basic sense, a decorator is a callable that returns a callable.\n",
    "\n",
    "Basically, a decorator takes in a function, adds some functionality and returns it."
   ]
  },
  {
   "cell_type": "code",
   "execution_count": 1,
   "metadata": {},
   "outputs": [
    {
     "name": "stdout",
     "output_type": "stream",
     "text": [
      "I am ordinary\n"
     ]
    }
   ],
   "source": [
    "def make_pretty(func):\n",
    "    def inner():\n",
    "        print(\"I got decorated\")\n",
    "        func()\n",
    "    return inner\n",
    "\n",
    "\n",
    "def ordinary():\n",
    "    print(\"I am ordinary\")\n",
    "    \n",
    "ordinary()"
   ]
  },
  {
   "cell_type": "markdown",
   "metadata": {},
   "source": [
    "Here, we have created two functions: ordinary() that prints \"I am ordinary\" and make_pretty() that takes a function as its argument and has a nested function named inner(), and returns the inner function. We are calling the ordinary() function normally, so we get the output \"I am ordinary\". Now, let's call it using the decorator function."
   ]
  },
  {
   "cell_type": "code",
   "execution_count": 2,
   "metadata": {},
   "outputs": [
    {
     "name": "stdout",
     "output_type": "stream",
     "text": [
      "I got decorated\n",
      "I am ordinary\n"
     ]
    }
   ],
   "source": [
    "# decorate the ordinary function\n",
    "decorated_func = make_pretty(ordinary)\n",
    "\n",
    "# call the decorated function\n",
    "decorated_func()"
   ]
  },
  {
   "cell_type": "markdown",
   "metadata": {},
   "source": [
    "In the example shown above, make_pretty() is a decorator. Notice the code,\n",
    "\n",
    "        decorated_func = make_pretty(ordinary)\n",
    "\n",
    "- We are now passing the ordinary() function as the argument to the make_pretty().\n",
    "\n",
    "- The make_pretty() function returns the inner function, and it is now assigned to the decorated_func variable.\n",
    "\n",
    "The decorated_func() is actually calling the inner() function, where we are printing\n",
    "\n",
    "### @ Symbol With Decorator\n",
    "Instead of assigning the function call to a variable, Python provides a much more elegant way to achieve this functionality using the @ symbol. \n",
    "\n",
    "For example,"
   ]
  },
  {
   "cell_type": "code",
   "execution_count": 3,
   "metadata": {},
   "outputs": [
    {
     "name": "stdout",
     "output_type": "stream",
     "text": [
      "I got decorated\n",
      "I am ordinary\n"
     ]
    }
   ],
   "source": [
    "def make_pretty(func):\n",
    "\n",
    "    def inner():\n",
    "        print(\"I got decorated\")\n",
    "        func()\n",
    "    return inner\n",
    "\n",
    "@make_pretty\n",
    "def ordinary():\n",
    "    print(\"I am ordinary\")\n",
    "\n",
    "ordinary()  "
   ]
  },
  {
   "cell_type": "markdown",
   "metadata": {},
   "source": [
    "Here, the ordinary() function is decorated with the make_pretty() decorator using the @make_pretty syntax, which is equivalent to calling ordinary = make_pretty(ordinary).\n",
    "\n",
    "### Decorating Functions with Parameters\n",
    "The above decorator was simple and it only worked with functions that did not have any parameters. What if we had functions that took in parameters like:"
   ]
  },
  {
   "cell_type": "code",
   "execution_count": 4,
   "metadata": {},
   "outputs": [],
   "source": [
    "def divide(a, b):\n",
    "    return a/b"
   ]
  },
  {
   "cell_type": "markdown",
   "metadata": {},
   "source": [
    "This function has two parameters, a and b. We know it will give an error if we pass in b as 0.\n",
    "\n",
    "Now let's make a decorator to check for this case that will cause the error."
   ]
  },
  {
   "cell_type": "code",
   "execution_count": 5,
   "metadata": {},
   "outputs": [
    {
     "name": "stdout",
     "output_type": "stream",
     "text": [
      "I am going to divide 2 and 5\n",
      "0.4\n",
      "I am going to divide 2 and 0\n",
      "Whoops! cannot divide\n"
     ]
    }
   ],
   "source": [
    "def smart_divide(func):\n",
    "    def inner(a, b):\n",
    "        print(\"I am going to divide\", a, \"and\", b)\n",
    "        if b == 0:\n",
    "            print(\"Whoops! cannot divide\")\n",
    "            return\n",
    "\n",
    "        return func(a, b)\n",
    "    return inner\n",
    "\n",
    "@smart_divide\n",
    "def divide(a, b):\n",
    "    print(a/b)\n",
    "\n",
    "divide(2,5)\n",
    "\n",
    "divide(2,0)"
   ]
  },
  {
   "cell_type": "markdown",
   "metadata": {},
   "source": [
    "Here, when we call the divide() function with the arguments (2,5), the inner() function defined in the smart_divide() decorator is called instead.\n",
    "\n",
    "This inner() function calls the original divide() function with the arguments 2 and 5 and returns the result, which is 0.4.\n",
    "\n",
    "Similarly, When we call the divide() function with the arguments (2,0), the inner() function checks that b is equal to 0 and prints an error message before returning None."
   ]
  },
  {
   "cell_type": "markdown",
   "metadata": {},
   "source": [
    "### Chaining Decorators in Python\n",
    "Multiple decorators can be chained in Python.\n",
    "\n",
    "To chain decorators in Python, we can apply multiple decorators to a single function by placing them one after the other, with the most inner decorator being applied first."
   ]
  },
  {
   "cell_type": "code",
   "execution_count": 10,
   "metadata": {},
   "outputs": [],
   "source": [
    "def star(func):\n",
    "    def inner(*args, **kwargs):\n",
    "        print(\"*\" * 15)\n",
    "        func(*args, **kwargs)\n",
    "        print(\"*\" * 15)\n",
    "    return inner\n",
    "\n",
    "\n",
    "def percent(func):\n",
    "    def inner(*args, **kwargs):\n",
    "        print(\"%\" * 15)\n",
    "        func(*args, **kwargs)\n",
    "        print(\"%\" * 15)\n",
    "    return inner"
   ]
  },
  {
   "cell_type": "code",
   "execution_count": 11,
   "metadata": {},
   "outputs": [
    {
     "name": "stdout",
     "output_type": "stream",
     "text": [
      "***************\n",
      "%%%%%%%%%%%%%%%\n",
      "Hello\n",
      "%%%%%%%%%%%%%%%\n",
      "***************\n"
     ]
    }
   ],
   "source": [
    "@star\n",
    "@percent\n",
    "def printer(msg):\n",
    "    print(msg)\n",
    "\n",
    "printer(\"Hello\")"
   ]
  },
  {
   "cell_type": "markdown",
   "metadata": {},
   "source": [
    "The above syntex is equivalant to the following:"
   ]
  },
  {
   "cell_type": "code",
   "execution_count": 9,
   "metadata": {},
   "outputs": [
    {
     "name": "stdout",
     "output_type": "stream",
     "text": [
      "***************\n",
      "%%%%%%%%%%%%%%%\n",
      "Hello\n",
      "%%%%%%%%%%%%%%%\n",
      "***************\n"
     ]
    }
   ],
   "source": [
    "def printer(msg):\n",
    "    print(msg)\n",
    "printer = star(percent(printer))\n",
    "printer(\"Hello\")"
   ]
  },
  {
   "cell_type": "markdown",
   "metadata": {},
   "source": [
    "### References:\n",
    "[Python Decorators](https://www.programiz.com/python-programming/decorator)\n",
    "\n",
    "[Primer on Python Decorators](https://realpython.com/primer-on-python-decorators/)"
   ]
  }
 ],
 "metadata": {
  "kernelspec": {
   "display_name": "Python 3 (ipykernel)",
   "language": "python",
   "name": "python3"
  },
  "language_info": {
   "codemirror_mode": {
    "name": "ipython",
    "version": 3
   },
   "file_extension": ".py",
   "mimetype": "text/x-python",
   "name": "python",
   "nbconvert_exporter": "python",
   "pygments_lexer": "ipython3",
   "version": "3.9.13"
  },
  "vscode": {
   "interpreter": {
    "hash": "9e5515e05fa29f26dd39119c974a47914e4bc097851ace640f902c2e0bba8621"
   }
  }
 },
 "nbformat": 4,
 "nbformat_minor": 2
}
