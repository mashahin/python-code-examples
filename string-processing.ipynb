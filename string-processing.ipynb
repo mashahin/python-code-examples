{
 "cells": [
  {
   "cell_type": "markdown",
   "id": "bc3e3794",
   "metadata": {},
   "source": [
    "## Strings in python"
   ]
  },
  {
   "cell_type": "markdown",
   "id": "709b5b6a",
   "metadata": {},
   "source": [
    "### Slicing\n"
   ]
  },
  {
   "cell_type": "code",
   "execution_count": 7,
   "id": "3c65035f",
   "metadata": {},
   "outputs": [
    {
     "name": "stdout",
     "output_type": "stream",
     "text": [
      "llo\n"
     ]
    }
   ],
   "source": [
    "# Get the characters from position 2 to position 5 (not include)\n",
    "txt = \"Hello, World!\"\n",
    "print(txt[2:5])"
   ]
  },
  {
   "cell_type": "code",
   "execution_count": 8,
   "id": "9b1740e9",
   "metadata": {},
   "outputs": [
    {
     "name": "stdout",
     "output_type": "stream",
     "text": [
      "Hello\n"
     ]
    }
   ],
   "source": [
    "# Get the characters from the start to position 5 (not include)\n",
    "print(txt[:5])"
   ]
  },
  {
   "cell_type": "code",
   "execution_count": 9,
   "id": "604fe917",
   "metadata": {},
   "outputs": [
    {
     "name": "stdout",
     "output_type": "stream",
     "text": [
      "llo, World!\n"
     ]
    }
   ],
   "source": [
    "# Get the characters from position 2 all the way to the end\n",
    "print(txt[2:])"
   ]
  },
  {
   "cell_type": "code",
   "execution_count": 11,
   "id": "09f43b8a",
   "metadata": {},
   "outputs": [
    {
     "name": "stdout",
     "output_type": "stream",
     "text": [
      "Worl\n"
     ]
    }
   ],
   "source": [
    "# Use negative indexes to start slicing from the end of the string\n",
    "print(txt[-6:-2])"
   ]
  },
  {
   "cell_type": "markdown",
   "id": "1f3dcfd3",
   "metadata": {},
   "source": [
    "### Change Case"
   ]
  },
  {
   "cell_type": "code",
   "execution_count": 13,
   "id": "856fff12",
   "metadata": {},
   "outputs": [
    {
     "name": "stdout",
     "output_type": "stream",
     "text": [
      "hello, world!\n"
     ]
    }
   ],
   "source": [
    "# all lower case letters\n",
    "print(txt.lower())"
   ]
  },
  {
   "cell_type": "code",
   "execution_count": 14,
   "id": "4ca47387",
   "metadata": {},
   "outputs": [
    {
     "name": "stdout",
     "output_type": "stream",
     "text": [
      "HELLO, WORLD!\n"
     ]
    }
   ],
   "source": [
    "# all upper case letters\n",
    "print(txt.upper())"
   ]
  },
  {
   "cell_type": "code",
   "execution_count": 25,
   "id": "4fd15c35",
   "metadata": {},
   "outputs": [
    {
     "name": "stdout",
     "output_type": "stream",
     "text": [
      "Hello, world!\n"
     ]
    }
   ],
   "source": [
    "# Convert the first letter to upper case\n",
    "print(txt.capitalize())"
   ]
  },
  {
   "cell_type": "markdown",
   "id": "251cd074",
   "metadata": {},
   "source": [
    "### Remove whitespaces"
   ]
  },
  {
   "cell_type": "code",
   "execution_count": 16,
   "id": "285de09f",
   "metadata": {},
   "outputs": [
    {
     "name": "stdout",
     "output_type": "stream",
     "text": [
      "Hello, World!\n"
     ]
    }
   ],
   "source": [
    "txt = \"  Hello, World!    \"\n",
    "print(txt.strip())"
   ]
  },
  {
   "cell_type": "markdown",
   "id": "89f986bd",
   "metadata": {},
   "source": [
    "### Replace string"
   ]
  },
  {
   "cell_type": "code",
   "execution_count": 17,
   "id": "6dd68146",
   "metadata": {},
   "outputs": [
    {
     "name": "stdout",
     "output_type": "stream",
     "text": [
      "Jello, World!\n"
     ]
    }
   ],
   "source": [
    "txt = \"Hello, World!\"\n",
    "print(txt.replace(\"H\", \"J\"))"
   ]
  },
  {
   "cell_type": "markdown",
   "id": "1b23039e",
   "metadata": {},
   "source": [
    "### Split string"
   ]
  },
  {
   "cell_type": "code",
   "execution_count": 19,
   "id": "1ab0656f",
   "metadata": {},
   "outputs": [
    {
     "name": "stdout",
     "output_type": "stream",
     "text": [
      "['Hello', ' World!']\n"
     ]
    }
   ],
   "source": [
    "print(txt.split(\",\"))"
   ]
  },
  {
   "cell_type": "markdown",
   "id": "c5d8cacd",
   "metadata": {},
   "source": [
    "### String concatenation"
   ]
  },
  {
   "cell_type": "code",
   "execution_count": 21,
   "id": "3887e042",
   "metadata": {},
   "outputs": [
    {
     "name": "stdout",
     "output_type": "stream",
     "text": [
      "Hello World\n"
     ]
    }
   ],
   "source": [
    "a = \"Hello\"\n",
    "b = \"World\"\n",
    "c = a + \" \" + b\n",
    "print(c)"
   ]
  },
  {
   "cell_type": "markdown",
   "id": "a5dc1219",
   "metadata": {},
   "source": [
    "### String format"
   ]
  },
  {
   "cell_type": "code",
   "execution_count": 23,
   "id": "bf874346",
   "metadata": {},
   "outputs": [
    {
     "name": "stdout",
     "output_type": "stream",
     "text": [
      "I want 5 pieces of item number 123 for 44.95 dollars.\n"
     ]
    }
   ],
   "source": [
    "quantity = 5\n",
    "itemno = 123\n",
    "price = 44.95\n",
    "my_order = \"I want {2} pieces of item number {0} for {1} dollars.\"\n",
    "print(my_order.format(itemno, price, quantity))"
   ]
  },
  {
   "cell_type": "code",
   "execution_count": null,
   "id": "7a213b52",
   "metadata": {},
   "outputs": [],
   "source": []
  }
 ],
 "metadata": {
  "kernelspec": {
   "display_name": "base",
   "language": "python",
   "name": "python3"
  },
  "language_info": {
   "codemirror_mode": {
    "name": "ipython",
    "version": 3
   },
   "file_extension": ".py",
   "mimetype": "text/x-python",
   "name": "python",
   "nbconvert_exporter": "python",
   "pygments_lexer": "ipython3",
   "version": "3.9.13 (main, Aug 25 2022, 23:51:50) [MSC v.1916 64 bit (AMD64)]"
  },
  "vscode": {
   "interpreter": {
    "hash": "9e5515e05fa29f26dd39119c974a47914e4bc097851ace640f902c2e0bba8621"
   }
  }
 },
 "nbformat": 4,
 "nbformat_minor": 5
}
