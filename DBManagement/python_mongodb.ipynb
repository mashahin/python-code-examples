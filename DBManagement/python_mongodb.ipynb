{
 "cells": [
  {
   "cell_type": "markdown",
   "id": "8948049d",
   "metadata": {},
   "source": [
    "# MongoDB"
   ]
  },
  {
   "cell_type": "markdown",
   "id": "bcb5b8e7",
   "metadata": {},
   "source": [
    "Python can be used in database applications.\n",
    "\n",
    "One of the most popular NoSQL database is MongoDB.\n",
    "\n",
    "MongoDB stores data in JSON-like documents, which makes the database very flexible and scalable.\n",
    "\n",
    "To be able to experiment with the code examples in this tutorial, you will need access to a MongoDB database.\n",
    "\n",
    "You can download a free MongoDB database at https://www.mongodb.com.\n",
    "\n",
    "Or get started right away with a MongoDB cloud service at https://www.mongodb.com/cloud/atlas."
   ]
  },
  {
   "cell_type": "markdown",
   "id": "7e29405d",
   "metadata": {},
   "source": [
    "## PyMongo\n",
    "\n",
    "\n",
    "Python needs a MongoDB driver to access the MongoDB database.\n",
    "\n",
    "In this tutorial we will use the MongoDB driver \"PyMongo\".\n",
    "\n",
    "We recommend that you use PIP to install \"PyMongo\".\n",
    "\n",
    "PIP is most likely already installed in your Python environment.\n",
    "\n",
    "Navigate your command line to the location of PIP, and type the following:\n",
    "\n",
    "Download and install \"PyMongo\":\n",
    "\n",
    "C:\\Users\\Your Name\\AppData\\Local\\Programs\\Python\\Python36-32\\Scripts>python -m pip install pymongo\n",
    "\n",
    "Now that you have downloaded and installed a mongoDB driver, let's get started."
   ]
  },
  {
   "cell_type": "markdown",
   "id": "2a983998",
   "metadata": {},
   "source": [
    "### Insert Into Collection\n",
    "\n",
    "To insert a record, or document as it is called in MongoDB, into a collection, we use the insert_one() method.\n",
    "\n",
    "The first parameter of the insert_one() method is a dictionary containing the name(s) and value(s) of each field in the document you want to insert."
   ]
  },
  {
   "cell_type": "code",
   "execution_count": 89,
   "id": "6d94b5a2",
   "metadata": {},
   "outputs": [
    {
     "name": "stdout",
     "output_type": "stream",
     "text": [
      "63dd2c840fc6dc8ecf1c28fe\n"
     ]
    }
   ],
   "source": [
    "import pymongo\n",
    "\n",
    "myclient = pymongo.MongoClient(\"mongodb://localhost:27017/\")\n",
    "mydb = myclient[\"mydatabase\"]\n",
    "mycol = mydb[\"customers\"]\n",
    "\n",
    "mydict = { \"name\": \"John\", \"address\": \"Highway 37\" }\n",
    "\n",
    "x = mycol.insert_one(mydict)\n",
    "print(x.inserted_id)"
   ]
  },
  {
   "cell_type": "markdown",
   "id": "567a5837",
   "metadata": {},
   "source": [
    "The insert_one() method returns a InsertOneResult object, which has a property, inserted_id, that holds the id of the inserted document. If you do not specify an _id field, then MongoDB will add one for you and assign a unique id for each document.\n",
    "In the example above no _id field was specified, so MongoDB assigned a unique _id for the record (document)."
   ]
  },
  {
   "cell_type": "markdown",
   "id": "50d7d307",
   "metadata": {},
   "source": [
    "### Insert Multiple Documents\n",
    "To insert multiple documents into a collection in MongoDB, we use the insert_many() method.\n",
    "\n",
    "The first parameter of the insert_many() method is a list containing dictionaries with the data you want to insert:"
   ]
  },
  {
   "cell_type": "code",
   "execution_count": 90,
   "id": "73479ac7",
   "metadata": {},
   "outputs": [
    {
     "name": "stdout",
     "output_type": "stream",
     "text": [
      "[ObjectId('63dd2c840fc6dc8ecf1c2900'), ObjectId('63dd2c840fc6dc8ecf1c2901'), ObjectId('63dd2c840fc6dc8ecf1c2902'), ObjectId('63dd2c840fc6dc8ecf1c2903'), ObjectId('63dd2c840fc6dc8ecf1c2904'), ObjectId('63dd2c840fc6dc8ecf1c2905'), ObjectId('63dd2c840fc6dc8ecf1c2906'), ObjectId('63dd2c840fc6dc8ecf1c2907'), ObjectId('63dd2c840fc6dc8ecf1c2908'), ObjectId('63dd2c840fc6dc8ecf1c2909'), ObjectId('63dd2c840fc6dc8ecf1c290a'), ObjectId('63dd2c840fc6dc8ecf1c290b')]\n"
     ]
    }
   ],
   "source": [
    "import pymongo\n",
    "\n",
    "myclient = pymongo.MongoClient(\"mongodb://localhost:27017/\")\n",
    "mydb = myclient[\"mydatabase\"]\n",
    "mycol = mydb[\"customers\"]\n",
    "\n",
    "mylist = [\n",
    "  { \"name\": \"Amy\", \"address\": \"Apple st 652\"},\n",
    "  { \"name\": \"Hannah\", \"address\": \"Mountain 21\"},\n",
    "  { \"name\": \"Michael\", \"address\": \"Valley 345\"},\n",
    "  { \"name\": \"Sandy\", \"address\": \"Ocean blvd 2\"},\n",
    "  { \"name\": \"Betty\", \"address\": \"Green Grass 1\"},\n",
    "  { \"name\": \"Richard\", \"address\": \"Sky st 331\"},\n",
    "  { \"name\": \"Susan\", \"address\": \"One way 98\"},\n",
    "  { \"name\": \"Vicky\", \"address\": \"Yellow Garden 2\"},\n",
    "  { \"name\": \"Ben\", \"address\": \"Park Lane 38\"},\n",
    "  { \"name\": \"William\", \"address\": \"Central st 954\"},\n",
    "  { \"name\": \"Chuck\", \"address\": \"Main Road 989\"},\n",
    "  { \"name\": \"Viola\", \"address\": \"Sideway 1633\"}\n",
    "]\n",
    "\n",
    "x = mycol.insert_many(mylist)\n",
    "\n",
    "#print list of the _id values of the inserted documents:\n",
    "print(x.inserted_ids)"
   ]
  },
  {
   "cell_type": "markdown",
   "id": "875d72da",
   "metadata": {},
   "source": [
    "### Insert Multiple Documents, with Specified IDs\n",
    "If you do not want MongoDB to assign unique ids for you document, you can specify the _id field when you insert the document(s).\n",
    "\n",
    "Remember that the values has to be unique. Two documents cannot have the same _id."
   ]
  },
  {
   "cell_type": "code",
   "execution_count": 91,
   "id": "8b131a45",
   "metadata": {},
   "outputs": [
    {
     "name": "stdout",
     "output_type": "stream",
     "text": [
      "27  documents deleted.\n"
     ]
    }
   ],
   "source": [
    "# delete all documents in a colletion\n",
    "x = mycol.delete_many({})\n",
    "\n",
    "print(x.deleted_count, \" documents deleted.\")"
   ]
  },
  {
   "cell_type": "code",
   "execution_count": 92,
   "id": "906e2953",
   "metadata": {},
   "outputs": [
    {
     "name": "stdout",
     "output_type": "stream",
     "text": [
      "[1, 2, 3, 4, 5, 6, 7, 8, 9, 10, 11, 12, 13, 14]\n"
     ]
    }
   ],
   "source": [
    "import pymongo\n",
    "\n",
    "myclient = pymongo.MongoClient(\"mongodb://localhost:27017/\")\n",
    "mydb = myclient[\"mydatabase\"]\n",
    "mycol = mydb[\"customers\"]\n",
    "\n",
    "mylist = [\n",
    "  { \"_id\": 1, \"name\": \"John\", \"address\": \"Highway 37\"},\n",
    "  { \"_id\": 2, \"name\": \"Peter\", \"address\": \"Lowstreet 27\"},\n",
    "  { \"_id\": 3, \"name\": \"Amy\", \"address\": \"Apple st 652\"},\n",
    "  { \"_id\": 4, \"name\": \"Hannah\", \"address\": \"Mountain 21\"},\n",
    "  { \"_id\": 5, \"name\": \"Michael\", \"address\": \"Valley 345\"},\n",
    "  { \"_id\": 6, \"name\": \"Sandy\", \"address\": \"Ocean blvd 2\"},\n",
    "  { \"_id\": 7, \"name\": \"Betty\", \"address\": \"Green Grass 1\"},\n",
    "  { \"_id\": 8, \"name\": \"Richard\", \"address\": \"Sky st 331\"},\n",
    "  { \"_id\": 9, \"name\": \"Susan\", \"address\": \"One way 98\"},\n",
    "  { \"_id\": 10, \"name\": \"Vicky\", \"address\": \"Yellow Garden 2\"},\n",
    "  { \"_id\": 11, \"name\": \"Ben\", \"address\": \"Park Lane 38\"},\n",
    "  { \"_id\": 12, \"name\": \"William\", \"address\": \"Central st 954\"},\n",
    "  { \"_id\": 13, \"name\": \"Chuck\", \"address\": \"Main Road 989\"},\n",
    "  { \"_id\": 14, \"name\": \"Viola\", \"address\": \"Sideway 1633\"}\n",
    "]\n",
    "\n",
    "x = mycol.insert_many(mylist)\n",
    "\n",
    "#print list of the _id values of the inserted documents:\n",
    "print(x.inserted_ids)"
   ]
  },
  {
   "cell_type": "markdown",
   "id": "3f531e83",
   "metadata": {},
   "source": [
    "### Find One\n",
    "To select data from a collection in MongoDB, we can use the find_one() method.\n",
    "\n",
    "The find_one() method returns the first occurrence in the selection."
   ]
  },
  {
   "cell_type": "code",
   "execution_count": 93,
   "id": "6774a606",
   "metadata": {},
   "outputs": [
    {
     "name": "stdout",
     "output_type": "stream",
     "text": [
      "{'_id': 1, 'name': 'John', 'address': 'Highway 37'}\n"
     ]
    }
   ],
   "source": [
    "x = mycol.find_one()\n",
    "print(x)"
   ]
  },
  {
   "cell_type": "markdown",
   "id": "4c5db36c",
   "metadata": {},
   "source": [
    "### Find All\n",
    "To select data from a table in MongoDB, we can also use the find() method.\n",
    "\n",
    "The find() method returns all occurrences in the selection.\n",
    "\n",
    "The first parameter of the find() method is a query object. In this example we use an empty query object, which selects all documents in the collection.\n",
    "\n",
    "No parameters in the find() method gives you the same result as SELECT * in MySQL."
   ]
  },
  {
   "cell_type": "code",
   "execution_count": 94,
   "id": "bfc54140",
   "metadata": {},
   "outputs": [
    {
     "name": "stdout",
     "output_type": "stream",
     "text": [
      "{'_id': 1, 'name': 'John', 'address': 'Highway 37'}\n",
      "{'_id': 2, 'name': 'Peter', 'address': 'Lowstreet 27'}\n",
      "{'_id': 3, 'name': 'Amy', 'address': 'Apple st 652'}\n",
      "{'_id': 4, 'name': 'Hannah', 'address': 'Mountain 21'}\n",
      "{'_id': 5, 'name': 'Michael', 'address': 'Valley 345'}\n",
      "{'_id': 6, 'name': 'Sandy', 'address': 'Ocean blvd 2'}\n",
      "{'_id': 7, 'name': 'Betty', 'address': 'Green Grass 1'}\n",
      "{'_id': 8, 'name': 'Richard', 'address': 'Sky st 331'}\n",
      "{'_id': 9, 'name': 'Susan', 'address': 'One way 98'}\n",
      "{'_id': 10, 'name': 'Vicky', 'address': 'Yellow Garden 2'}\n",
      "{'_id': 11, 'name': 'Ben', 'address': 'Park Lane 38'}\n",
      "{'_id': 12, 'name': 'William', 'address': 'Central st 954'}\n",
      "{'_id': 13, 'name': 'Chuck', 'address': 'Main Road 989'}\n",
      "{'_id': 14, 'name': 'Viola', 'address': 'Sideway 1633'}\n"
     ]
    }
   ],
   "source": [
    "for x in mycol.find():\n",
    "    print(x)"
   ]
  },
  {
   "cell_type": "markdown",
   "id": "02497b9e",
   "metadata": {},
   "source": [
    "### Return Only Some Fields\n",
    "The second parameter of the find() method is an object describing which fields to include in the result.\n",
    "\n",
    "This parameter is optional, and if omitted, all fields will be included in the result."
   ]
  },
  {
   "cell_type": "code",
   "execution_count": 95,
   "id": "d7e5a338",
   "metadata": {},
   "outputs": [
    {
     "name": "stdout",
     "output_type": "stream",
     "text": [
      "{'name': 'John', 'address': 'Highway 37'}\n",
      "{'name': 'Peter', 'address': 'Lowstreet 27'}\n",
      "{'name': 'Amy', 'address': 'Apple st 652'}\n",
      "{'name': 'Hannah', 'address': 'Mountain 21'}\n",
      "{'name': 'Michael', 'address': 'Valley 345'}\n",
      "{'name': 'Sandy', 'address': 'Ocean blvd 2'}\n",
      "{'name': 'Betty', 'address': 'Green Grass 1'}\n",
      "{'name': 'Richard', 'address': 'Sky st 331'}\n",
      "{'name': 'Susan', 'address': 'One way 98'}\n",
      "{'name': 'Vicky', 'address': 'Yellow Garden 2'}\n",
      "{'name': 'Ben', 'address': 'Park Lane 38'}\n",
      "{'name': 'William', 'address': 'Central st 954'}\n",
      "{'name': 'Chuck', 'address': 'Main Road 989'}\n",
      "{'name': 'Viola', 'address': 'Sideway 1633'}\n"
     ]
    }
   ],
   "source": [
    "for x in mycol.find({}, {\"_id\": 0, \"name\": 1, \"address\": 1}):\n",
    "    print(x)"
   ]
  },
  {
   "cell_type": "markdown",
   "id": "ea4ee7fc",
   "metadata": {},
   "source": [
    "You are not allowed to specify both 0 and 1 values in the same object (except if one of the fields is the _id field). If you specify a field with the value 0, all other fields get the value 1, and vice versa:\n",
    "\n",
    "The following code will exclude \"address\" from the result:"
   ]
  },
  {
   "cell_type": "code",
   "execution_count": 96,
   "id": "2abc8f67",
   "metadata": {},
   "outputs": [
    {
     "name": "stdout",
     "output_type": "stream",
     "text": [
      "{'_id': 1, 'name': 'John'}\n",
      "{'_id': 2, 'name': 'Peter'}\n",
      "{'_id': 3, 'name': 'Amy'}\n",
      "{'_id': 4, 'name': 'Hannah'}\n",
      "{'_id': 5, 'name': 'Michael'}\n",
      "{'_id': 6, 'name': 'Sandy'}\n",
      "{'_id': 7, 'name': 'Betty'}\n",
      "{'_id': 8, 'name': 'Richard'}\n",
      "{'_id': 9, 'name': 'Susan'}\n",
      "{'_id': 10, 'name': 'Vicky'}\n",
      "{'_id': 11, 'name': 'Ben'}\n",
      "{'_id': 12, 'name': 'William'}\n",
      "{'_id': 13, 'name': 'Chuck'}\n",
      "{'_id': 14, 'name': 'Viola'}\n"
     ]
    }
   ],
   "source": [
    "for x in mycol.find({}, {\"address\": 0}):\n",
    "    print(x)"
   ]
  },
  {
   "cell_type": "markdown",
   "id": "aac578b4",
   "metadata": {},
   "source": [
    "### Filter the Result\n",
    "When finding documents in a collection, you can filter the result by using a query object.\n",
    "\n",
    "The first argument of the find() method is a query object, and is used to limit the search."
   ]
  },
  {
   "cell_type": "code",
   "execution_count": 97,
   "id": "3820b48a",
   "metadata": {},
   "outputs": [
    {
     "name": "stdout",
     "output_type": "stream",
     "text": [
      "{'_id': 11, 'name': 'Ben', 'address': 'Park Lane 38'}\n"
     ]
    }
   ],
   "source": [
    "# Find document(s) with the address \"Park Lane 38\":\n",
    "\n",
    "import pymongo\n",
    "\n",
    "myclient = pymongo.MongoClient(\"mongodb://localhost:27017/\")\n",
    "mydb = myclient[\"mydatabase\"]\n",
    "mycol = mydb[\"customers\"]\n",
    "\n",
    "myquery = {\"address\": \"Park Lane 38\"}\n",
    "mydoc = mycol.find(myquery)\n",
    "\n",
    "for x in mydoc: print(x)"
   ]
  },
  {
   "cell_type": "markdown",
   "id": "9545de84",
   "metadata": {},
   "source": [
    "### Advanced Query\n",
    "To make advanced queries you can use modifiers as values in the query object.\n",
    "\n",
    "E.g. to find the documents where the \"address\" field starts with the letter \"S\" or higher (alphabetically), use the greater than modifier: {\"$gt\": \"S\"}:"
   ]
  },
  {
   "cell_type": "code",
   "execution_count": 98,
   "id": "7cca3eb7",
   "metadata": {},
   "outputs": [
    {
     "name": "stdout",
     "output_type": "stream",
     "text": [
      "{'_id': 5, 'name': 'Michael', 'address': 'Valley 345'}\n",
      "{'_id': 8, 'name': 'Richard', 'address': 'Sky st 331'}\n",
      "{'_id': 10, 'name': 'Vicky', 'address': 'Yellow Garden 2'}\n",
      "{'_id': 14, 'name': 'Viola', 'address': 'Sideway 1633'}\n"
     ]
    }
   ],
   "source": [
    "# Find documents where the address starts with the letter \"S\" or higher\n",
    "myquery = { \"address\": {\"$gt\": \"S\"} }\n",
    "mydoc = mycol.find(myquery)\n",
    "\n",
    "for x in mydoc: print(x)"
   ]
  },
  {
   "cell_type": "markdown",
   "id": "87a28101",
   "metadata": {},
   "source": [
    "### Filter With Regular Expressions\n",
    "You can also use regular expressions as a modifier.\n",
    "\n",
    "Regular expressions can only be used to query strings.\n",
    "\n",
    "To find only the documents where the \"address\" field starts with the letter \"S\", use the regular expression {\"$regex\": \"^S\"}:"
   ]
  },
  {
   "cell_type": "code",
   "execution_count": 99,
   "id": "3153213c",
   "metadata": {},
   "outputs": [
    {
     "name": "stdout",
     "output_type": "stream",
     "text": [
      "{'_id': 8, 'name': 'Richard', 'address': 'Sky st 331'}\n",
      "{'_id': 14, 'name': 'Viola', 'address': 'Sideway 1633'}\n"
     ]
    }
   ],
   "source": [
    "# Find documents where the address starts with the letter \"S\"\n",
    "myquery = { \"address\": {\"$regex\": \"^S\"} }\n",
    "mydoc = mycol.find(myquery)\n",
    "\n",
    "for x in mydoc: print(x)"
   ]
  },
  {
   "cell_type": "markdown",
   "id": "40482f26",
   "metadata": {},
   "source": [
    "### Sort the Result\n",
    "Use the sort() method to sort the result in ascending or descending order.\n",
    "\n",
    "The sort() method takes one parameter for \"fieldname\" and one parameter for \"direction\" (ascending is the default direction).\n",
    "\n",
    "- sort(\"name\", 1) #ascending\n",
    "- sort(\"name\", -1) #descending"
   ]
  },
  {
   "cell_type": "code",
   "execution_count": 100,
   "id": "16c70d67",
   "metadata": {},
   "outputs": [
    {
     "name": "stdout",
     "output_type": "stream",
     "text": [
      "{'_id': 3, 'name': 'Amy', 'address': 'Apple st 652'}\n",
      "{'_id': 11, 'name': 'Ben', 'address': 'Park Lane 38'}\n",
      "{'_id': 7, 'name': 'Betty', 'address': 'Green Grass 1'}\n",
      "{'_id': 13, 'name': 'Chuck', 'address': 'Main Road 989'}\n",
      "{'_id': 4, 'name': 'Hannah', 'address': 'Mountain 21'}\n",
      "{'_id': 1, 'name': 'John', 'address': 'Highway 37'}\n",
      "{'_id': 5, 'name': 'Michael', 'address': 'Valley 345'}\n",
      "{'_id': 2, 'name': 'Peter', 'address': 'Lowstreet 27'}\n",
      "{'_id': 8, 'name': 'Richard', 'address': 'Sky st 331'}\n",
      "{'_id': 6, 'name': 'Sandy', 'address': 'Ocean blvd 2'}\n",
      "{'_id': 9, 'name': 'Susan', 'address': 'One way 98'}\n",
      "{'_id': 10, 'name': 'Vicky', 'address': 'Yellow Garden 2'}\n",
      "{'_id': 14, 'name': 'Viola', 'address': 'Sideway 1633'}\n",
      "{'_id': 12, 'name': 'William', 'address': 'Central st 954'}\n"
     ]
    }
   ],
   "source": [
    "# Sort alphabetically by name \n",
    "\n",
    "mydoc = mycol.find().sort(\"name\", 1)\n",
    "\n",
    "for x in mydoc: print(x)"
   ]
  },
  {
   "cell_type": "markdown",
   "id": "493a5206",
   "metadata": {},
   "source": [
    "### Limit the Result\n",
    "To limit the result in MongoDB, we use the limit() method.\n",
    "\n",
    "The limit() method takes one parameter, a number defining how many documents to return."
   ]
  },
  {
   "cell_type": "code",
   "execution_count": 101,
   "id": "6ead2332",
   "metadata": {},
   "outputs": [
    {
     "name": "stdout",
     "output_type": "stream",
     "text": [
      "{'_id': 1, 'name': 'John', 'address': 'Highway 37'}\n",
      "{'_id': 2, 'name': 'Peter', 'address': 'Lowstreet 27'}\n",
      "{'_id': 3, 'name': 'Amy', 'address': 'Apple st 652'}\n",
      "{'_id': 4, 'name': 'Hannah', 'address': 'Mountain 21'}\n",
      "{'_id': 5, 'name': 'Michael', 'address': 'Valley 345'}\n"
     ]
    }
   ],
   "source": [
    "# Limit the query to return only 5 documents\n",
    "results = mycol.find().limit(5)\n",
    "for x in results: print(x)"
   ]
  },
  {
   "cell_type": "markdown",
   "id": "056303d8",
   "metadata": {},
   "source": [
    "### Update Collection\n",
    "You can update a record, or document as it is called in MongoDB, by using the update_one() method.\n",
    "\n",
    "The first parameter of the update_one() method is a query object defining which document to update.\n",
    "\n",
    "Note: If the query finds more than one record, only the first occurrence is updated.\n",
    "\n",
    "The second parameter is an object defining the new values of the document."
   ]
  },
  {
   "cell_type": "code",
   "execution_count": 102,
   "id": "e9c9e186",
   "metadata": {},
   "outputs": [
    {
     "name": "stdout",
     "output_type": "stream",
     "text": [
      "{'_id': 1, 'name': 'John', 'address': 'Highway 37'}\n",
      "{'_id': 2, 'name': 'Peter', 'address': 'Lowstreet 27'}\n",
      "{'_id': 3, 'name': 'Amy', 'address': 'Apple st 652'}\n",
      "{'_id': 4, 'name': 'Hannah', 'address': 'Mountain 21'}\n",
      "{'_id': 5, 'name': 'Michael', 'address': 'Canyon 123'}\n",
      "{'_id': 6, 'name': 'Sandy', 'address': 'Ocean blvd 2'}\n",
      "{'_id': 7, 'name': 'Betty', 'address': 'Green Grass 1'}\n",
      "{'_id': 8, 'name': 'Richard', 'address': 'Sky st 331'}\n",
      "{'_id': 9, 'name': 'Susan', 'address': 'One way 98'}\n",
      "{'_id': 10, 'name': 'Vicky', 'address': 'Yellow Garden 2'}\n",
      "{'_id': 11, 'name': 'Ben', 'address': 'Park Lane 38'}\n",
      "{'_id': 12, 'name': 'William', 'address': 'Central st 954'}\n",
      "{'_id': 13, 'name': 'Chuck', 'address': 'Main Road 989'}\n",
      "{'_id': 14, 'name': 'Viola', 'address': 'Sideway 1633'}\n"
     ]
    }
   ],
   "source": [
    "# Change the address from \"Valley 345\" to \"Canyon 123\"\n",
    "myquery = { \"address\": \"Valley 345\" }\n",
    "newvalues = { \"$set\": { \"address\": \"Canyon 123\" } }\n",
    "\n",
    "mycol.update_one(myquery, newvalues)\n",
    "\n",
    "#print \"customers\" after the update:\n",
    "for x in mycol.find():\n",
    "  print(x)"
   ]
  },
  {
   "cell_type": "markdown",
   "id": "75bcbbe0",
   "metadata": {},
   "source": [
    "### Update Many\n",
    "To update all documents that meets the criteria of the query, use the update_many() method.\n",
    "\n",
    "Example: Update all documents where the address starts with the letter \"S\""
   ]
  },
  {
   "cell_type": "code",
   "execution_count": 103,
   "id": "530817b0",
   "metadata": {},
   "outputs": [
    {
     "name": "stdout",
     "output_type": "stream",
     "text": [
      "2 documents modified.\n"
     ]
    }
   ],
   "source": [
    "myquery = { \"address\": {\"$regex\": \"^S\"} }\n",
    "newvalues = { \"$set\": {\"name\": \"Minnie\"} }\n",
    "\n",
    "x = mycol.update_many(myquery, newvalues)\n",
    "print(x.modified_count, 'documents modified.')"
   ]
  },
  {
   "cell_type": "markdown",
   "id": "d74817a7",
   "metadata": {},
   "source": [
    "### Delete Document\n",
    "To delete one document, we use the delete_one() method.\n",
    "\n",
    "The first parameter of the delete_one() method is a query object defining which document to delete.\n",
    "\n",
    "Note: If the query finds more than one document, only the first occurrence is deleted."
   ]
  },
  {
   "cell_type": "code",
   "execution_count": 104,
   "id": "16e5b903",
   "metadata": {},
   "outputs": [
    {
     "name": "stdout",
     "output_type": "stream",
     "text": [
      "{'_id': 1, 'name': 'John', 'address': 'Highway 37'}\n",
      "{'_id': 2, 'name': 'Peter', 'address': 'Lowstreet 27'}\n",
      "{'_id': 3, 'name': 'Amy', 'address': 'Apple st 652'}\n",
      "{'_id': 5, 'name': 'Michael', 'address': 'Canyon 123'}\n",
      "{'_id': 6, 'name': 'Sandy', 'address': 'Ocean blvd 2'}\n",
      "{'_id': 7, 'name': 'Betty', 'address': 'Green Grass 1'}\n",
      "{'_id': 8, 'name': 'Minnie', 'address': 'Sky st 331'}\n",
      "{'_id': 9, 'name': 'Susan', 'address': 'One way 98'}\n",
      "{'_id': 10, 'name': 'Vicky', 'address': 'Yellow Garden 2'}\n",
      "{'_id': 11, 'name': 'Ben', 'address': 'Park Lane 38'}\n",
      "{'_id': 12, 'name': 'William', 'address': 'Central st 954'}\n",
      "{'_id': 13, 'name': 'Chuck', 'address': 'Main Road 989'}\n",
      "{'_id': 14, 'name': 'Minnie', 'address': 'Sideway 1633'}\n"
     ]
    }
   ],
   "source": [
    "# Delete the document with the address \"Mountain 21\"\n",
    "myquery = { \"address\": \"Mountain 21\" }\n",
    "mycol.delete_one(myquery)\n",
    "\n",
    "# Print the collection after deletion\n",
    "for x in mycol.find(): print(x)"
   ]
  },
  {
   "cell_type": "markdown",
   "id": "13b9aab5",
   "metadata": {},
   "source": [
    "### Delete Many Documents\n",
    "To delete more than one document, use the delete_many() method.\n",
    "\n",
    "The first parameter of the delete_many() method is a query object defining which documents to delete."
   ]
  },
  {
   "cell_type": "code",
   "execution_count": 105,
   "id": "8584c498",
   "metadata": {},
   "outputs": [
    {
     "name": "stdout",
     "output_type": "stream",
     "text": [
      "2 documents deleted.\n"
     ]
    }
   ],
   "source": [
    "# Delete all documents where the address starts with the letter S\n",
    "myquery = { 'address': {'$regex': '^S'} }\n",
    "x = mycol.delete_many(myquery)\n",
    "\n",
    "print(x.deleted_count, 'documents deleted.')"
   ]
  },
  {
   "cell_type": "markdown",
   "id": "b7f2541d",
   "metadata": {},
   "source": [
    "### Delete All Documents in a Collection\n",
    "To delete all documents in a collection, pass an empty query object to the delete_many() method."
   ]
  },
  {
   "cell_type": "code",
   "execution_count": 106,
   "id": "f537d8d2",
   "metadata": {},
   "outputs": [
    {
     "name": "stdout",
     "output_type": "stream",
     "text": [
      "11 doccuments deleted.\n"
     ]
    }
   ],
   "source": [
    "# Delete all documents in the \"customers\" collection\n",
    "x = mycol.delete_many({})\n",
    "print(x.deleted_count, 'doccuments deleted.')"
   ]
  },
  {
   "cell_type": "markdown",
   "id": "839b4515",
   "metadata": {},
   "source": [
    "### Delete Collection\n",
    "You can delete a table, or collection as it is called in MongoDB, by using the drop() method. The drop() method returns true if the collection was dropped successfully, and false if the collection does not exist."
   ]
  },
  {
   "cell_type": "code",
   "execution_count": 107,
   "id": "954b8fe8",
   "metadata": {},
   "outputs": [
    {
     "name": "stdout",
     "output_type": "stream",
     "text": [
      "['customers']\n"
     ]
    }
   ],
   "source": [
    "collist = mydb.list_collection_names()\n",
    "print(collist)"
   ]
  },
  {
   "cell_type": "code",
   "execution_count": 108,
   "id": "2cb8d489",
   "metadata": {},
   "outputs": [],
   "source": [
    "# drop the collection \"customers\"\n",
    "mycol = mydb[\"customers\"]\n",
    "mycol.drop()"
   ]
  },
  {
   "cell_type": "code",
   "execution_count": 109,
   "id": "74bd40f1",
   "metadata": {},
   "outputs": [
    {
     "name": "stdout",
     "output_type": "stream",
     "text": [
      "[]\n"
     ]
    }
   ],
   "source": [
    "collist = mydb.list_collection_names()\n",
    "print(collist)"
   ]
  },
  {
   "cell_type": "markdown",
   "id": "82cbfc1d",
   "metadata": {},
   "source": [
    "An empty list [ ] is returned meaning that there are no collections in the database."
   ]
  },
  {
   "cell_type": "code",
   "execution_count": null,
   "id": "a14994b7",
   "metadata": {},
   "outputs": [],
   "source": []
  }
 ],
 "metadata": {
  "kernelspec": {
   "display_name": "Python 3 (ipykernel)",
   "language": "python",
   "name": "python3"
  },
  "language_info": {
   "codemirror_mode": {
    "name": "ipython",
    "version": 3
   },
   "file_extension": ".py",
   "mimetype": "text/x-python",
   "name": "python",
   "nbconvert_exporter": "python",
   "pygments_lexer": "ipython3",
   "version": "3.9.13"
  }
 },
 "nbformat": 4,
 "nbformat_minor": 5
}
