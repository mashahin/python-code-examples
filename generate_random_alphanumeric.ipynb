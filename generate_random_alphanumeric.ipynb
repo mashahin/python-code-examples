{
 "cells": [
  {
   "cell_type": "markdown",
   "id": "31eea4e3",
   "metadata": {},
   "source": [
    "# Random Generator\n",
    "Python provides rich module support and some of these modules can help us to generate random numbers and letters. There are multiple ways we can do that using various Python modules."
   ]
  },
  {
   "cell_type": "markdown",
   "id": "fd549bae",
   "metadata": {},
   "source": [
    "### Generate a random letter using a string and a random module\n",
    "The string module has a special function ascii_letters which returns a string containing all the alphabets from a-z and A-Z, i.e. all the lowercase and uppercase alphabets. Using random.choice() we can choose any of the particular characters from that string."
   ]
  },
  {
   "cell_type": "code",
   "execution_count": 19,
   "id": "6702e42f",
   "metadata": {},
   "outputs": [
    {
     "name": "stdout",
     "output_type": "stream",
     "text": [
      "S\n"
     ]
    }
   ],
   "source": [
    "import random\n",
    "import string\n",
    "\n",
    "random_letter = random.choice(string.ascii_letters)\n",
    "\n",
    "print(random_letter)"
   ]
  },
  {
   "cell_type": "markdown",
   "id": "7e403a2a",
   "metadata": {},
   "source": [
    "### Generate a random letter using the only random module\n",
    "Using random.randint(x,y) we can generate random integers from x to y. So we can randomly generate the ASCII value of one of the alphabets and then typecast them to char using chr() function"
   ]
  },
  {
   "cell_type": "code",
   "execution_count": 16,
   "id": "0fc65dca",
   "metadata": {},
   "outputs": [
    {
     "name": "stdout",
     "output_type": "stream",
     "text": [
      "t C\n"
     ]
    }
   ],
   "source": [
    "import random\n",
    "\n",
    "random_lowercase_letter = chr(random.randint(ord('a'), ord('z')))\n",
    "random_uppercase_letter = chr(random.randint(ord('A'), ord('Z')))\n",
    "\n",
    "print(random_lowercase_letter, random_uppercase_letter)\n"
   ]
  },
  {
   "cell_type": "markdown",
   "id": "b1ee7810",
   "metadata": {},
   "source": [
    "### Generate random digits 0 - 9"
   ]
  },
  {
   "cell_type": "code",
   "execution_count": 48,
   "id": "a4146d18",
   "metadata": {},
   "outputs": [
    {
     "name": "stdout",
     "output_type": "stream",
     "text": [
      "9\n",
      "7\n",
      "4\n"
     ]
    }
   ],
   "source": [
    "import random\n",
    "\n",
    "for _ in range(3):\n",
    "    random_digit = random.randrange(10)\n",
    "    print(random_digit)"
   ]
  },
  {
   "cell_type": "code",
   "execution_count": 42,
   "id": "29f36d6d",
   "metadata": {},
   "outputs": [
    {
     "name": "stdout",
     "output_type": "stream",
     "text": [
      "4\n",
      "9\n",
      "5\n"
     ]
    }
   ],
   "source": [
    "from secrets import randbelow\n",
    "\n",
    "for _ in range(3):\n",
    "    print(randbelow(10))"
   ]
  },
  {
   "cell_type": "markdown",
   "id": "87df40d2",
   "metadata": {},
   "source": [
    "### Generate a random vehicle licence plate\n",
    "Three capital letters followed by three digits with a space separating letters and numbers, e.g., HYG 497"
   ]
  },
  {
   "cell_type": "code",
   "execution_count": 55,
   "id": "e01fbd12",
   "metadata": {},
   "outputs": [
    {
     "name": "stdout",
     "output_type": "stream",
     "text": [
      "WRF 179\n"
     ]
    }
   ],
   "source": [
    "import random\n",
    "import string\n",
    "\n",
    "N = 3 # size of string to generate\n",
    "\n",
    "str1 = ''.join(random.choices(string.ascii_uppercase, k=N))\n",
    "str2 = ''.join(random.choices(string.digits, k=N))\n",
    "licence = f\"{str1} {str2}\"\n",
    "\n",
    "print(licence)    "
   ]
  },
  {
   "cell_type": "code",
   "execution_count": null,
   "id": "1ae01db0",
   "metadata": {},
   "outputs": [],
   "source": []
  }
 ],
 "metadata": {
  "kernelspec": {
   "display_name": "Python 3 (ipykernel)",
   "language": "python",
   "name": "python3"
  },
  "language_info": {
   "codemirror_mode": {
    "name": "ipython",
    "version": 3
   },
   "file_extension": ".py",
   "mimetype": "text/x-python",
   "name": "python",
   "nbconvert_exporter": "python",
   "pygments_lexer": "ipython3",
   "version": "3.9.13"
  }
 },
 "nbformat": 4,
 "nbformat_minor": 5
}
