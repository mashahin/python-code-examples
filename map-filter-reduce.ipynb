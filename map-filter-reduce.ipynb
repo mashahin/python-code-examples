{
 "cells": [
  {
   "cell_type": "markdown",
   "id": "dc3be648-110a-4ef4-b476-53821dc1d819",
   "metadata": {},
   "source": [
    "# Data Streams:\n",
    "A stream is a sequence of elements. With map(), filter(), and reduce() – the three cornerstone functions of functional programming – you can operate over a sequence of elements. In this article, we will learn how to work with streams in Python  like we work with them in Java.\n",
    "\n",
    "But first, let’s say a word about functional programming.\n",
    "\n",
    "## What Is Functional Programming?\n",
    "Functional programming is a programming paradigm that breaks down a problem into individual functions. Every function, if possible, takes a set of input arguments and produces an output. In this paradigm, we avoid mutable data types and state changes as much as possible.\n",
    "\n",
    "It also emphasizes RECURSION rather than loops, focusing on lists, PURE FUNCTIONS, and HIGHER-ORDER FUNCTIONS.\n",
    "\n",
    "In this article, we will explore map(), filter(), and reduce() in Python. These are the Python methods used to perform the MAPPING, FILTERING, and REDUCING operations that are fundamental in functional programming.\n",
    "\n",
    "First, let’s note that map(), filter(), and reduce() are written in C and are highly optimized in terms of speed and memory usage, making them a better choice than the regular Python for loop.\n",
    "\n",
    "As a prerequisite, it is essential to have some knowledge of functions in Python.\n",
    "\n",
    "## Working on Streams in Python:  map()\n",
    "map() takes a function and one or more iterables as arguments. The output is an iterator that returns the transformed items.\n",
    "\n",
    "SYNTAX: map(function, iterable[, iterable1, iterable2,..., iterableN])\n",
    "\n",
    "ThE first argument to map() is a transformation function, where each original item is transformed into a new one. It can be any Python callable.\n",
    "\n",
    "Suppose you need to take a list of numeric values and transform it into a list containing the cube value of every number in the original list. You can use a for loop and code something like this:"
   ]
  },
  {
   "cell_type": "code",
   "execution_count": 22,
   "id": "749d9a2c-f4c3-474a-a76a-9548835d652a",
   "metadata": {},
   "outputs": [
    {
     "name": "stdout",
     "output_type": "stream",
     "text": [
      "[8, 27, 216, 729, 1000]\n"
     ]
    }
   ],
   "source": [
    "# Define numbers to transform and an empty cube list\n",
    "num = [2, 3, 6, 9, 10]\n",
    "cube = []\n",
    " \n",
    "# Define for loop to transform the numbers\n",
    "for n in num:\n",
    "    cube.append(n ** 3)\n",
    "    \n",
    "print(cube)"
   ]
  },
  {
   "cell_type": "markdown",
   "id": "d79cd605-4415-478b-afaf-a7b438fbac51",
   "metadata": {},
   "source": [
    "This loop returns a list of cube values. The for loop iterates over num and applies a cube transformation on each value. Finally, it stores the resulting values in cube.\n",
    "\n",
    "map() can achieve the same result without a for loop:"
   ]
  },
  {
   "cell_type": "code",
   "execution_count": 2,
   "id": "5cc834b9-bd10-472e-ada0-587dac809f2b",
   "metadata": {},
   "outputs": [
    {
     "data": {
      "text/plain": [
       "[8, 27, 216, 729, 1000]"
      ]
     },
     "execution_count": 2,
     "metadata": {},
     "output_type": "execute_result"
    }
   ],
   "source": [
    "# Define the transformation function\n",
    "def cube(num):\n",
    "    return num ** 3\n",
    " \n",
    "# List of numbers to transform\n",
    "num = [2, 3, 6, 9, 10]\n",
    " \n",
    "# Call map function to apply cube on each number\n",
    "cubed = map(cube, num)\n",
    " \n",
    "# Create a list containing the cubed values\n",
    "list(cubed)"
   ]
  },
  {
   "cell_type": "markdown",
   "id": "4ddb6d1f-81d9-412c-9bb4-589b0fed82cb",
   "metadata": {},
   "source": [
    "The above example illustrates how to transform a list of values with map() and a user-defined function.\n",
    "\n",
    "Any kind of Python callable works with map() such as classes, instance methods, class methods, static methods, and functions.\n",
    "\n",
    "A typical pattern when using map() is to use a Python lambda function as the first argument. Lambda functions are a handy way to pass an expression-based function to map(). To illustrate this, we can reuse the example of cube values using a Python lambda function:"
   ]
  },
  {
   "cell_type": "code",
   "execution_count": 3,
   "id": "ca85f5c4-9f6e-4823-be54-6a66ed1a2afe",
   "metadata": {},
   "outputs": [
    {
     "data": {
      "text/plain": [
       "[8, 27, 216, 729, 1000]"
      ]
     },
     "execution_count": 3,
     "metadata": {},
     "output_type": "execute_result"
    }
   ],
   "source": [
    "# List of input numbers to transform\n",
    "num = [2, 3, 6, 9, 10]\n",
    " \n",
    "# Define a lambda function to iterate on each value of num.\n",
    "cubed = map(lambda n: n ** 3, num)\n",
    " \n",
    "# Create a list containing the cubed values\n",
    "list(cubed)"
   ]
  },
  {
   "cell_type": "markdown",
   "id": "fcfd0ce9-2aca-4359-8281-61b94e5ea571",
   "metadata": {},
   "source": [
    "If you enter multiple iterables to map(), then the transformation function must take as many arguments as the number of iterables you pass in. Each iteration will pass one value from each iterable as an argument to the function.\n",
    "\n",
    "When multiple iterables are passed, map() will group elements across the iterables. For example, it will take each first element and pass it to the function.\n",
    "\n",
    "This technique is useful to merge two or more iterables of numeric values that use different math operations. Here are some examples that use the Python lambda functions to compute various math operations on several input iterables:"
   ]
  },
  {
   "cell_type": "code",
   "execution_count": 5,
   "id": "01a9cc7c-6d00-470c-bb98-6dcdf670538a",
   "metadata": {},
   "outputs": [
    {
     "name": "stdout",
     "output_type": "stream",
     "text": [
      "[3.0, 0.75, 0.8333333333333334]\n",
      "[50, 16]\n"
     ]
    }
   ],
   "source": [
    "print(list(map(lambda x, y: x / y, [6, 3, 5], [2, 4, 6])))\n",
    " \n",
    "print(list(map(lambda x, y, z: x * y + z, [6, 2], [7, 3], [8, 10])))"
   ]
  },
  {
   "cell_type": "markdown",
   "id": "b233c09f-535c-4289-8775-2960c05b8009",
   "metadata": {},
   "source": [
    "In the first example, we use a divide operation to merge two iterables of three items each. In the second example, we multiply and add together the values of three iterables as 6 x 7 + 8 = 50 and 2 x 3 + 10 = 16.\n",
    "\n",
    "Also, map() is helpful to process and transform iterables of numeric values; a lot of math-related transformations can be performed with map().\n",
    "\n",
    "We should also mention STARMAP(), which is very similar to map(). According to the Python documentation, starmap() is used instead of map() when the argument parameters are already grouped in tuples from a single iterable, meaning that the data has been “pre-zipped”.\n",
    "\n",
    "To call starmap(), we need to import itertools. Let’s run a quick example of this:"
   ]
  },
  {
   "cell_type": "code",
   "execution_count": 7,
   "id": "ff227ca0-85c6-465f-9778-2efb3d9aa9bc",
   "metadata": {},
   "outputs": [
    {
     "data": {
      "text/plain": [
       "[6, 54, 120]"
      ]
     },
     "execution_count": 7,
     "metadata": {},
     "output_type": "execute_result"
    }
   ],
   "source": [
    "import itertools\n",
    " \n",
    "# Define a list of tuples\n",
    "num = [(2, 3), (6, 9), (10, 12)]\n",
    " \n",
    "# Define a lambda function to a list of tuples\n",
    "multiply = itertools.starmap(lambda x,y: x * y, num)\n",
    " \n",
    "# Create a list containing the multiplied values\n",
    "list(multiply)"
   ]
  },
  {
   "cell_type": "markdown",
   "id": "a0f8bef2-077a-4317-a526-74cbacc5c358",
   "metadata": {},
   "source": [
    "## Working on Streams in Python:  filter()\n",
    "A filtering operation processes an iterable and extracts the items that satisfy a given operation. It can be performed with Python’s FILTER() built-in function.\n",
    "\n",
    "SYNTAX: filter(function, iterable)\n",
    "Filtering functions can filter out unwanted values and keep the desired values in the output. The function argument must be a single-argument function. It’s typically a boolean-valued function that returns either True or False.\n",
    "\n",
    "The iterable argument can be any Python iterable, such as a list, a tuple, or a set. It can also hold generator and iterator objects. Note that filter() accepts only one iterable.\n",
    "\n",
    "filter() is often used with a Python lambda function as an alternative way of defining a user-defined function. Let's run an example in which we want to get only the even numbers from a list:"
   ]
  },
  {
   "cell_type": "code",
   "execution_count": 8,
   "id": "6f48e976-fe30-4efb-81c4-2e0e6572625a",
   "metadata": {},
   "outputs": [
    {
     "name": "stdout",
     "output_type": "stream",
     "text": [
      "[12, 34, 26, 250, 10]\n"
     ]
    }
   ],
   "source": [
    "# List of numbers\n",
    "num = [12, 37, 34, 26, 9, 250, 451, 3, 10]\n",
    "   \n",
    "# Define lambda function to filter even numbers\n",
    "even = list(filter(lambda x: (x % 2 == 0), num))\n",
    "   \n",
    "# Print the even numbers\n",
    "print(even)"
   ]
  },
  {
   "cell_type": "markdown",
   "id": "09dc3b53-310d-45d5-af34-c031af8920e2",
   "metadata": {},
   "source": [
    "The above example uses filter() to check whether numbers are even. If this condition is met and returns True, the even number \"goes through the filter\".\n",
    "\n",
    "Note that it is possible to replace filter() with a list comprehension:\n",
    "\n",
    "`Generate a list with filter(): list(filter(function, iterable))`\n",
    " \n",
    "`Generate a list with a list comprehension: [i for i in iterable if function(i)]`\n",
    "\n",
    "In both cases, the purpose is to return a list object.\n",
    "\n",
    "When manipulating lists in Python, the list comprehension approach is more explicit than `filter()`. However, list comprehensions lack [LAZY EVALUATION](https://en.wikipedia.org/wiki/Lazy_evaluation). Also, by reading the code, we immediately know that `filter()` performs a filtering operation. In this sense, list comprehensions are not so explicit."
   ]
  },
  {
   "cell_type": "markdown",
   "id": "0331e638-b91b-400a-9a17-66d6f042b150",
   "metadata": {},
   "source": [
    "## Using groupby() and sort() in Python\n",
    "In this part, we will discuss other tools for working on streams in Python: sort() and groupby()\n",
    "\n",
    "The sort() method is a helpful tool to manipulate lists in Python. For example, if you need to sort a list in ascending or reverse order, you can use the following:"
   ]
  },
  {
   "cell_type": "code",
   "execution_count": 9,
   "id": "5a3f7f87-508c-4427-9d72-372dc966d4b2",
   "metadata": {},
   "outputs": [
    {
     "name": "stdout",
     "output_type": "stream",
     "text": [
      "[4, 13, 24, 28, 35]\n"
     ]
    }
   ],
   "source": [
    "num = [24, 4, 13, 35, 28]\n",
    " \n",
    "# sort the list in ascending order\n",
    "num.sort()\n",
    "print(num)"
   ]
  },
  {
   "cell_type": "code",
   "execution_count": 13,
   "id": "91fa430f-3ef5-4ca7-a2c1-3641b15faa98",
   "metadata": {},
   "outputs": [
    {
     "name": "stdout",
     "output_type": "stream",
     "text": [
      "[35, 28, 24, 13, 4]\n"
     ]
    }
   ],
   "source": [
    "# sort the list in descending order\n",
    "num = [24, 4, 13, 35, 28]\n",
    "num.sort(reverse=True)\n",
    "print(num)"
   ]
  },
  {
   "cell_type": "markdown",
   "id": "19c12ddc-081f-4303-81ec-e9b41b05ac67",
   "metadata": {},
   "source": [
    "it is important to note that the sort() method mutates the original list and it is therefore impossible to revert back the list’s items to their original position. \n",
    "\n",
    "Next, ITERTOOLS.GROUPBY() takes a list of iterables and groups them based on a specified key. The key is useful to specify what action has to be taken to each individual iterable. The return value will be similar to a dictionary, as it is in the {key:value} form. Because of this, it is very important to sort the items with the same key as the one used for grouping. This will ensure consistency in the code and avoid unexpected results.\n",
    "\n",
    "Let’s run an example in which we have some monthly expenses stored as a list of tuples.\n",
    "\n",
    "We want to group those expenses by the month and finally calculate the monthly total expenses."
   ]
  },
  {
   "cell_type": "code",
   "execution_count": 16,
   "id": "3a1681c8-e563-48c0-b220-72b9b67a2a39",
   "metadata": {},
   "outputs": [
    {
     "data": {
      "text/plain": [
       "{'April': [('April', 67), ('April', 45)],\n",
       " 'February': [('February', 47), ('February', 32)],\n",
       " 'January': [('January', 25), ('January', 56), ('January', 54)],\n",
       " 'March': [('March', 38), ('March', 54)],\n",
       " 'May': [('May', 78)]}"
      ]
     },
     "execution_count": 16,
     "metadata": {},
     "output_type": "execute_result"
    }
   ],
   "source": [
    "import itertools\n",
    " \n",
    "# Create a list of monthly spendings as a list of tuples \n",
    "spendings = [(\"January\", 25), (\"February\", 47), (\"March\", 38), (\"March\", 54), (\"April\", 67),\n",
    "             (\"January\", 56), (\"February\", 32), (\"May\", 78), (\"January\", 54), (\"April\", 45)]\n",
    " \n",
    "# Create an empty dictionary to store the data\n",
    "spendings_dic = {}\n",
    "\n",
    "# Define a func variable to specify the grouping key\n",
    "func = lambda x: x[0]\n",
    " \n",
    "# Group monthly spendings by month in a dictionary\n",
    "for key, group in itertools.groupby(sorted(spendings, key=func), func):\n",
    "    spendings_dic[key] = list(group)\n",
    " \n",
    "spendings_dic"
   ]
  },
  {
   "cell_type": "markdown",
   "id": "95cafbb7-4a84-47f1-8ea0-7517a4e60743",
   "metadata": {},
   "source": [
    "In the above snippet, we used sorted() instead of sort(). This is because we wanted to sort an iterable that was not yet a list.\n",
    "\n",
    "Contrary to sort(), sorted() will create a copy of the original list, making it possible to retrieve the original order. Because sorted() needs to create a copy of the original list, it is slower than sort().\n",
    "\n",
    "Finally, we can use map() from the previous section to sum the monthly expenses:"
   ]
  },
  {
   "cell_type": "code",
   "execution_count": 17,
   "id": "decf6c8a-e42a-4ba7-a36d-a3da5be10577",
   "metadata": {},
   "outputs": [
    {
     "data": {
      "text/plain": [
       "{'April': 112, 'February': 79, 'January': 135, 'March': 92, 'May': 78}"
      ]
     },
     "execution_count": 17,
     "metadata": {},
     "output_type": "execute_result"
    }
   ],
   "source": [
    "# Apply map() to sum the monthly spendings\n",
    "monthly_spendings = {key: sum(map(lambda x: x[1], value)) for key, value in spendings_dic.items()}\n",
    "monthly_spendings"
   ]
  },
  {
   "cell_type": "markdown",
   "id": "fe71552e-89e2-481d-b72a-3ed5adcb7e3e",
   "metadata": {},
   "source": [
    "## Working on Streams in Python:  reduce()\n",
    "The REDUCE() function implements a technique called FOLDING or reduction. It takes an existing function, applies it cumulatively to all the items in iterable, and returns a single final value.\n",
    "\n",
    "reduce() was originally a built-in function and was supposed to be removed. It was moved to functools.reduce() in Python 3.0 because of some possible performance and readability issues.\n",
    "\n",
    "Unless you cannot find any solution other than reduce(), you should avoid using it. The reduce() function can create some abysmal performance issues because it calls functions multiple times, making your code slow and inefficient.\n",
    "\n",
    "Whenever possible, work with a dedicated function to solve these use cases. Functions such as sum(), any(), all(), min(), max(), len(), math.prod() are faster, more readable, and Pythonic. Those functions are also highly optimized and implemented in C, making them fast and efficient.\n",
    "\n",
    "reduce() can also compromise the readability of your code when you use it with complex user-defined functions or lambda functions. reduce() will generally perform better than a Python for loop, but as Python creator Guido Van Rossum explained, a Python loop is often easier to understand than reduce().  He recommends that the applicability of reduce() be limited to associative operators.\n",
    "\n",
    "For the sake of being complete in explaining the three main methods used in functional programming, I will briefly explain reduce() along with some use cases.\n",
    "\n",
    "SYNTAX: functools.reduce(function, iterable[, initializer])\n",
    "\n",
    "Python [DOCUMENTATION](https://docs.python.org/3/library/functools.html#functools.reduce) refers to the first argument of reduce() as “a function of two arguments”. However, we can pass any Python callable as long as there are two arguments. Callable objects include classes, instance methods, class methods, static methods, and functions.\n",
    "\n",
    "The second required argument, iterable, can be any Python iterable. The official [PYTHON GLOSSARY](https://docs.python.org/3/glossary.html) defines an iterable as “an object capable of returning its members one at a time. Examples of iterables include all sequence types (such as list, str, and tuple) and some non-sequence types like dict, file objects, and objects of any classes you define with an __iter__() method or with a __getitem__() method that implements Sequence semantics.”\n",
    "\n",
    "The initializer argument of reduce() is optional. If you supply a value to the initializer, then reduce() will feed it to its first argument's first call of the function. Otherwise, it'll use the first value from the iterable.\n",
    "\n",
    "If you want to use reduce() to process iterables that may be empty, then it is a good practice to provide a value to the initializer. This value will be used as the default return value when the iterable is empty. If you don’t provide any value, reduce() will raise a TypeError.\n",
    "\n",
    "Let’s run some examples. As with the previous section, we can use reduce() to calculate yearly expenses:"
   ]
  },
  {
   "cell_type": "code",
   "execution_count": 18,
   "id": "86d45ecb-802e-41a7-bd3c-7e5af30ba242",
   "metadata": {},
   "outputs": [
    {
     "name": "stdout",
     "output_type": "stream",
     "text": [
      "496\n"
     ]
    }
   ],
   "source": [
    "from functools import reduce\n",
    "yearly_spendings = reduce(lambda x, y:x + y, monthly_spendings.values())\n",
    "print(yearly_spendings)"
   ]
  },
  {
   "cell_type": "markdown",
   "id": "d4313271-2dec-4d6c-a5b4-d55e13b20c94",
   "metadata": {},
   "source": [
    "The examples below are more difficult, but they are useful reduce() use cases. Feel free to play with the code a bit to familiarize yourself with the concepts.\n",
    "\n",
    "We want to turn a list of [[1, 3, 5], [7, 9], [11, 13, 15]] into [1, 3, 5, 7, 9, 11, 13, 15].\n",
    "\n",
    "We can do it as follows:"
   ]
  },
  {
   "cell_type": "code",
   "execution_count": 19,
   "id": "0e54748f-3af7-4eb1-9d49-8d48d8e2b682",
   "metadata": {},
   "outputs": [
    {
     "data": {
      "text/plain": [
       "[1, 3, 5, 7, 9, 11, 13, 15]"
      ]
     },
     "execution_count": 19,
     "metadata": {},
     "output_type": "execute_result"
    }
   ],
   "source": [
    "from functools import reduce\n",
    "reduce(list.__add__, [[1, 3, 5], [7, 9], [11, 13, 15]], [])"
   ]
  },
  {
   "cell_type": "markdown",
   "id": "17cc1954-aaef-4f2f-899d-1d0c692ca237",
   "metadata": {},
   "source": [
    "We can also use reduce() to find the intersection of n number of lists. For example:"
   ]
  },
  {
   "cell_type": "code",
   "execution_count": 20,
   "id": "9062cc23-f003-4e04-b890-7492ba191c36",
   "metadata": {},
   "outputs": [
    {
     "name": "stdout",
     "output_type": "stream",
     "text": [
      "{8, 5}\n"
     ]
    }
   ],
   "source": [
    "from functools import reduce\n",
    " \n",
    "num = [[5, 7, 8, 10, 3], [5, 12, 45, 8, 9], [8, 39, 90, 5, 12]]\n",
    " \n",
    "res = reduce(set.intersection, map(set, num))\n",
    "print(res)"
   ]
  },
  {
   "cell_type": "markdown",
   "id": "a124b62a-3210-4ba0-8605-1125786175bd",
   "metadata": {},
   "source": [
    "The output is a set. You can find more information about sets in Python HERE.\n",
    "\n",
    "Despite the examples mentioned above, the number of reduce() use cases is minimal, which explains why it has been removed from the built-in functions in Python 3. Most of the time, you’ll be better off using another method to manipulate lists in Python.\n",
    "\n",
    "## Closing Thoughts on Python Streams\n",
    "In this article, WE learned about functional programming in Python and its three main methods, map(), filter(), and reduce(). wE can use them to manipulate lists in Python. We also discussed how to use groupby() and sort().\n",
    "\n",
    "All these methods make it easier to work on streams in Python. I encourage you to play with them, explore what they do, and compare the results."
   ]
  }
 ],
 "metadata": {
  "kernelspec": {
   "display_name": "Python 3 (ipykernel)",
   "language": "python",
   "name": "python3"
  },
  "language_info": {
   "codemirror_mode": {
    "name": "ipython",
    "version": 3
   },
   "file_extension": ".py",
   "mimetype": "text/x-python",
   "name": "python",
   "nbconvert_exporter": "python",
   "pygments_lexer": "ipython3",
   "version": "3.9.13"
  }
 },
 "nbformat": 4,
 "nbformat_minor": 5
}
