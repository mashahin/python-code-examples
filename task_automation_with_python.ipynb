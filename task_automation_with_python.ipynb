{
 "cells": [
  {
   "cell_type": "markdown",
   "id": "c5a32135",
   "metadata": {},
   "source": [
    "### Extract tables from websites"
   ]
  },
  {
   "cell_type": "code",
   "execution_count": 4,
   "id": "052b3ee0",
   "metadata": {},
   "outputs": [
    {
     "name": "stdout",
     "output_type": "stream",
     "text": [
      "<class 'list'> 23\n"
     ]
    }
   ],
   "source": [
    "import pandas as pd\n",
    "\n",
    "url = 'https://en.wikipedia.org/wiki/List_of_The_Simpsons_episodes_(seasons_1%E2%80%9320)'\n",
    "tables = pd.read_html(url)\n",
    "print(type(tables), len(tables))"
   ]
  },
  {
   "cell_type": "code",
   "execution_count": 6,
   "id": "be974f8a",
   "metadata": {},
   "outputs": [
    {
     "data": {
      "text/html": [
       "<div>\n",
       "<style scoped>\n",
       "    .dataframe tbody tr th:only-of-type {\n",
       "        vertical-align: middle;\n",
       "    }\n",
       "\n",
       "    .dataframe tbody tr th {\n",
       "        vertical-align: top;\n",
       "    }\n",
       "\n",
       "    .dataframe thead th {\n",
       "        text-align: right;\n",
       "    }\n",
       "</style>\n",
       "<table border=\"1\" class=\"dataframe\">\n",
       "  <thead>\n",
       "    <tr style=\"text-align: right;\">\n",
       "      <th></th>\n",
       "      <th>No.overall</th>\n",
       "      <th>No. inseason</th>\n",
       "      <th>Title</th>\n",
       "      <th>Directed by</th>\n",
       "      <th>Written by</th>\n",
       "      <th>Original air date</th>\n",
       "      <th>Prod.code</th>\n",
       "      <th>U.S. viewers(millions)</th>\n",
       "    </tr>\n",
       "  </thead>\n",
       "  <tbody>\n",
       "    <tr>\n",
       "      <th>0</th>\n",
       "      <td>1</td>\n",
       "      <td>1</td>\n",
       "      <td>\"Simpsons Roasting on an Open Fire\"</td>\n",
       "      <td>David Silverman</td>\n",
       "      <td>Mimi Pond</td>\n",
       "      <td>December 17, 1989</td>\n",
       "      <td>7G08</td>\n",
       "      <td>26.7[46]</td>\n",
       "    </tr>\n",
       "    <tr>\n",
       "      <th>1</th>\n",
       "      <td>2</td>\n",
       "      <td>2</td>\n",
       "      <td>\"Bart the Genius\"</td>\n",
       "      <td>David Silverman</td>\n",
       "      <td>Jon Vitti</td>\n",
       "      <td>January 14, 1990</td>\n",
       "      <td>7G02</td>\n",
       "      <td>24.5[46]</td>\n",
       "    </tr>\n",
       "    <tr>\n",
       "      <th>2</th>\n",
       "      <td>3</td>\n",
       "      <td>3</td>\n",
       "      <td>\"Homer's Odyssey\"</td>\n",
       "      <td>Wes Archer</td>\n",
       "      <td>Jay Kogen &amp; Wallace Wolodarsky</td>\n",
       "      <td>January 21, 1990</td>\n",
       "      <td>7G03</td>\n",
       "      <td>27.5[47]</td>\n",
       "    </tr>\n",
       "    <tr>\n",
       "      <th>3</th>\n",
       "      <td>4</td>\n",
       "      <td>4</td>\n",
       "      <td>\"There's No Disgrace Like Home\"</td>\n",
       "      <td>Gregg Vanzo &amp; Kent Butterworth</td>\n",
       "      <td>Al Jean &amp; Mike Reiss</td>\n",
       "      <td>January 28, 1990</td>\n",
       "      <td>7G04</td>\n",
       "      <td>20.2[48]</td>\n",
       "    </tr>\n",
       "    <tr>\n",
       "      <th>4</th>\n",
       "      <td>5</td>\n",
       "      <td>5</td>\n",
       "      <td>\"Bart the General\"</td>\n",
       "      <td>David Silverman</td>\n",
       "      <td>John Swartzwelder</td>\n",
       "      <td>February 4, 1990</td>\n",
       "      <td>7G05</td>\n",
       "      <td>27.1[49]</td>\n",
       "    </tr>\n",
       "  </tbody>\n",
       "</table>\n",
       "</div>"
      ],
      "text/plain": [
       "   No.overall  No. inseason                                Title  \\\n",
       "0           1             1  \"Simpsons Roasting on an Open Fire\"   \n",
       "1           2             2                    \"Bart the Genius\"   \n",
       "2           3             3                    \"Homer's Odyssey\"   \n",
       "3           4             4      \"There's No Disgrace Like Home\"   \n",
       "4           5             5                   \"Bart the General\"   \n",
       "\n",
       "                      Directed by                      Written by  \\\n",
       "0                 David Silverman                       Mimi Pond   \n",
       "1                 David Silverman                       Jon Vitti   \n",
       "2                      Wes Archer  Jay Kogen & Wallace Wolodarsky   \n",
       "3  Gregg Vanzo & Kent Butterworth            Al Jean & Mike Reiss   \n",
       "4                 David Silverman               John Swartzwelder   \n",
       "\n",
       "   Original air date Prod.code U.S. viewers(millions)  \n",
       "0  December 17, 1989      7G08               26.7[46]  \n",
       "1   January 14, 1990      7G02               24.5[46]  \n",
       "2   January 21, 1990      7G03               27.5[47]  \n",
       "3   January 28, 1990      7G04               20.2[48]  \n",
       "4   February 4, 1990      7G05               27.1[49]  "
      ]
     },
     "execution_count": 6,
     "metadata": {},
     "output_type": "execute_result"
    }
   ],
   "source": [
    "tables[1].head()"
   ]
  },
  {
   "cell_type": "code",
   "execution_count": 10,
   "id": "5c822245",
   "metadata": {},
   "outputs": [
    {
     "data": {
      "text/html": [
       "<div>\n",
       "<style scoped>\n",
       "    .dataframe tbody tr th:only-of-type {\n",
       "        vertical-align: middle;\n",
       "    }\n",
       "\n",
       "    .dataframe tbody tr th {\n",
       "        vertical-align: top;\n",
       "    }\n",
       "\n",
       "    .dataframe thead th {\n",
       "        text-align: right;\n",
       "    }\n",
       "</style>\n",
       "<table border=\"1\" class=\"dataframe\">\n",
       "  <thead>\n",
       "    <tr style=\"text-align: right;\">\n",
       "      <th></th>\n",
       "      <th>No.overall</th>\n",
       "      <th>No. inseason</th>\n",
       "      <th>Title</th>\n",
       "      <th>Directed by</th>\n",
       "      <th>Written by</th>\n",
       "      <th>Original air date</th>\n",
       "      <th>Prod.code</th>\n",
       "      <th>U.S. viewers(millions)</th>\n",
       "    </tr>\n",
       "  </thead>\n",
       "  <tbody>\n",
       "    <tr>\n",
       "      <th>15</th>\n",
       "      <td>416</td>\n",
       "      <td>16</td>\n",
       "      <td>\"Papa Don't Leech\"</td>\n",
       "      <td>Chris Clements</td>\n",
       "      <td>Reid Harrison</td>\n",
       "      <td>April 13, 2008</td>\n",
       "      <td>KABF09</td>\n",
       "      <td>6.9[363]</td>\n",
       "    </tr>\n",
       "    <tr>\n",
       "      <th>16</th>\n",
       "      <td>417</td>\n",
       "      <td>17</td>\n",
       "      <td>\"Apocalypse Cow\"</td>\n",
       "      <td>Nancy Kruse</td>\n",
       "      <td>Jeff Westbrook</td>\n",
       "      <td>April 27, 2008</td>\n",
       "      <td>KABF10</td>\n",
       "      <td>7.69[364]</td>\n",
       "    </tr>\n",
       "    <tr>\n",
       "      <th>17</th>\n",
       "      <td>418</td>\n",
       "      <td>18</td>\n",
       "      <td>\"Any Given Sundance\"</td>\n",
       "      <td>Chuck Sheetz</td>\n",
       "      <td>Daniel Chun</td>\n",
       "      <td>May 4, 2008</td>\n",
       "      <td>KABF11</td>\n",
       "      <td>6.18[365]</td>\n",
       "    </tr>\n",
       "    <tr>\n",
       "      <th>18</th>\n",
       "      <td>419</td>\n",
       "      <td>19</td>\n",
       "      <td>\"Mona Leaves-a\"</td>\n",
       "      <td>Mike B. Anderson &amp; Ralph Sosa</td>\n",
       "      <td>Joel H. Cohen</td>\n",
       "      <td>May 11, 2008</td>\n",
       "      <td>KABF12</td>\n",
       "      <td>6.02[366]</td>\n",
       "    </tr>\n",
       "    <tr>\n",
       "      <th>19</th>\n",
       "      <td>420</td>\n",
       "      <td>20</td>\n",
       "      <td>\"All About Lisa\"</td>\n",
       "      <td>Steven Dean Moore</td>\n",
       "      <td>John Frink</td>\n",
       "      <td>May 18, 2008</td>\n",
       "      <td>KABF13</td>\n",
       "      <td>6.11[367]</td>\n",
       "    </tr>\n",
       "  </tbody>\n",
       "</table>\n",
       "</div>"
      ],
      "text/plain": [
       "    No.overall  No. inseason                 Title  \\\n",
       "15         416            16    \"Papa Don't Leech\"   \n",
       "16         417            17      \"Apocalypse Cow\"   \n",
       "17         418            18  \"Any Given Sundance\"   \n",
       "18         419            19       \"Mona Leaves-a\"   \n",
       "19         420            20      \"All About Lisa\"   \n",
       "\n",
       "                      Directed by      Written by Original air date Prod.code  \\\n",
       "15                 Chris Clements   Reid Harrison    April 13, 2008    KABF09   \n",
       "16                    Nancy Kruse  Jeff Westbrook    April 27, 2008    KABF10   \n",
       "17                   Chuck Sheetz     Daniel Chun       May 4, 2008    KABF11   \n",
       "18  Mike B. Anderson & Ralph Sosa   Joel H. Cohen      May 11, 2008    KABF12   \n",
       "19              Steven Dean Moore      John Frink      May 18, 2008    KABF13   \n",
       "\n",
       "   U.S. viewers(millions)  \n",
       "15               6.9[363]  \n",
       "16              7.69[364]  \n",
       "17              6.18[365]  \n",
       "18              6.02[366]  \n",
       "19              6.11[367]  "
      ]
     },
     "execution_count": 10,
     "metadata": {},
     "output_type": "execute_result"
    }
   ],
   "source": [
    "tables[20].tail()"
   ]
  },
  {
   "cell_type": "markdown",
   "id": "fa2c54ec",
   "metadata": {},
   "source": [
    "### Create multiple folderd\n",
    "\n",
    "Task: Create folders for each week/month of the year"
   ]
  },
  {
   "cell_type": "code",
   "execution_count": 15,
   "id": "38611c27",
   "metadata": {},
   "outputs": [
    {
     "name": "stdout",
     "output_type": "stream",
     "text": [
      "['January', 'February', 'March', 'April', 'May', 'June', 'July', 'August', 'September', 'October', 'November', 'December']\n",
      "['week_1', 'week_2', 'week_3', 'week_4']\n"
     ]
    }
   ],
   "source": [
    "import calendar\n",
    "from pathlib import Path\n",
    "\n",
    "months = list(calendar.month_name[1:])\n",
    "print(months)\n",
    "\n",
    "weeks = ['week_1', 'week_2', 'week_3', 'week_4']\n",
    "print(weeks)"
   ]
  },
  {
   "cell_type": "code",
   "execution_count": 20,
   "id": "c49b9709",
   "metadata": {},
   "outputs": [],
   "source": [
    "year = '2022'\n",
    "\n",
    "for i, month in enumerate(months):\n",
    "    for week in weeks:\n",
    "        # print(f\"{year}/{month}/{week}\")\n",
    "        Path(f\"{year}/{i+1}.{month}/{week}\").mkdir(parents=True, exist_ok=True)"
   ]
  },
  {
   "cell_type": "code",
   "execution_count": null,
   "id": "2ac73a15",
   "metadata": {},
   "outputs": [],
   "source": []
  }
 ],
 "metadata": {
  "kernelspec": {
   "display_name": "Python 3 (ipykernel)",
   "language": "python",
   "name": "python3"
  },
  "language_info": {
   "codemirror_mode": {
    "name": "ipython",
    "version": 3
   },
   "file_extension": ".py",
   "mimetype": "text/x-python",
   "name": "python",
   "nbconvert_exporter": "python",
   "pygments_lexer": "ipython3",
   "version": "3.9.13"
  }
 },
 "nbformat": 4,
 "nbformat_minor": 5
}
